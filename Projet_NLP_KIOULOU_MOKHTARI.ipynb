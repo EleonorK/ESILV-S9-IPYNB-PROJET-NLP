{
  "cells": [
    {
      "cell_type": "markdown",
      "source": [
        "Eléonor KIOULOU\n",
        "Khadija MOKHTARI"
      ],
      "metadata": {
        "id": "3hdCsMRL9fpf"
      }
    },
    {
      "cell_type": "markdown",
      "metadata": {
        "id": "gIJ_NPoDY17N"
      },
      "source": [
        "#PROJET NLP"
      ]
    },
    {
      "cell_type": "code",
      "execution_count": null,
      "metadata": {
        "colab": {
          "base_uri": "https://localhost:8080/"
        },
        "id": "Y9tTKH_HGshA",
        "outputId": "1559db74-9371-4e9c-8e8f-7642c7e4d76f"
      },
      "outputs": [
        {
          "output_type": "stream",
          "name": "stdout",
          "text": [
            "Requirement already satisfied: transformers in /usr/local/lib/python3.10/dist-packages (4.35.2)\n",
            "Requirement already satisfied: filelock in /usr/local/lib/python3.10/dist-packages (from transformers) (3.13.1)\n",
            "Requirement already satisfied: huggingface-hub<1.0,>=0.16.4 in /usr/local/lib/python3.10/dist-packages (from transformers) (0.19.3)\n",
            "Requirement already satisfied: numpy>=1.17 in /usr/local/lib/python3.10/dist-packages (from transformers) (1.23.5)\n",
            "Requirement already satisfied: packaging>=20.0 in /usr/local/lib/python3.10/dist-packages (from transformers) (23.2)\n",
            "Requirement already satisfied: pyyaml>=5.1 in /usr/local/lib/python3.10/dist-packages (from transformers) (6.0.1)\n",
            "Requirement already satisfied: regex!=2019.12.17 in /usr/local/lib/python3.10/dist-packages (from transformers) (2023.6.3)\n",
            "Requirement already satisfied: requests in /usr/local/lib/python3.10/dist-packages (from transformers) (2.31.0)\n",
            "Requirement already satisfied: tokenizers<0.19,>=0.14 in /usr/local/lib/python3.10/dist-packages (from transformers) (0.15.0)\n",
            "Requirement already satisfied: safetensors>=0.3.1 in /usr/local/lib/python3.10/dist-packages (from transformers) (0.4.0)\n",
            "Requirement already satisfied: tqdm>=4.27 in /usr/local/lib/python3.10/dist-packages (from transformers) (4.66.1)\n",
            "Requirement already satisfied: fsspec>=2023.5.0 in /usr/local/lib/python3.10/dist-packages (from huggingface-hub<1.0,>=0.16.4->transformers) (2023.6.0)\n",
            "Requirement already satisfied: typing-extensions>=3.7.4.3 in /usr/local/lib/python3.10/dist-packages (from huggingface-hub<1.0,>=0.16.4->transformers) (4.5.0)\n",
            "Requirement already satisfied: charset-normalizer<4,>=2 in /usr/local/lib/python3.10/dist-packages (from requests->transformers) (3.3.2)\n",
            "Requirement already satisfied: idna<4,>=2.5 in /usr/local/lib/python3.10/dist-packages (from requests->transformers) (3.4)\n",
            "Requirement already satisfied: urllib3<3,>=1.21.1 in /usr/local/lib/python3.10/dist-packages (from requests->transformers) (2.0.7)\n",
            "Requirement already satisfied: certifi>=2017.4.17 in /usr/local/lib/python3.10/dist-packages (from requests->transformers) (2023.7.22)\n"
          ]
        }
      ],
      "source": [
        "!pip install transformers"
      ]
    },
    {
      "cell_type": "code",
      "execution_count": null,
      "metadata": {
        "colab": {
          "base_uri": "https://localhost:8080/"
        },
        "id": "06sIb_i2YxM3",
        "outputId": "0dd0c4cd-3760-4b46-9a50-0f7129ba3008"
      },
      "outputs": [
        {
          "output_type": "stream",
          "name": "stderr",
          "text": [
            "[nltk_data] Downloading package stopwords to /root/nltk_data...\n",
            "[nltk_data]   Package stopwords is already up-to-date!\n",
            "[nltk_data] Downloading package punkt to /root/nltk_data...\n",
            "[nltk_data]   Package punkt is already up-to-date!\n"
          ]
        },
        {
          "output_type": "execute_result",
          "data": {
            "text/plain": [
              "True"
            ]
          },
          "metadata": {},
          "execution_count": 18
        }
      ],
      "source": [
        "import nltk\n",
        "from nltk.tokenize import word_tokenize\n",
        "from nltk.corpus import stopwords\n",
        "nltk.download('stopwords')\n",
        "nltk.download('punkt')"
      ]
    },
    {
      "cell_type": "code",
      "execution_count": null,
      "metadata": {
        "colab": {
          "base_uri": "https://localhost:8080/"
        },
        "id": "4UPIqqAvY9Qx",
        "outputId": "3222a292-a6f4-4d25-843b-84c7158c2636"
      },
      "outputs": [
        {
          "output_type": "stream",
          "name": "stdout",
          "text": [
            "fatal: destination path 'project1-2023' already exists and is not an empty directory.\n"
          ]
        }
      ],
      "source": [
        "# Télécharge l'ensemble des fichiers et du code du référentiel sur votre environnement local\n",
        "!git clone https://github.com/cr-nlp/project1-2023.git"
      ]
    },
    {
      "cell_type": "code",
      "execution_count": null,
      "metadata": {
        "id": "7_Ob4Vx1Zl-o"
      },
      "outputs": [],
      "source": [
        "# Chargement des fichiers\n",
        "dir = \"./project1-2023/\"\n",
        "queries_file_path = dir + \"dev.all.queries\"\n",
        "docs_file_path = dir + \"dev.docs\""
      ]
    },
    {
      "cell_type": "markdown",
      "metadata": {
        "id": "eILTuFFbBztT"
      },
      "source": [
        "## BERT"
      ]
    },
    {
      "cell_type": "code",
      "execution_count": null,
      "metadata": {
        "colab": {
          "base_uri": "https://localhost:8080/"
        },
        "id": "kPmxodbkBzXK",
        "outputId": "4bedb857-510b-474f-ba13-2b6d59879db6"
      },
      "outputs": [
        {
          "output_type": "stream",
          "name": "stderr",
          "text": [
            "[nltk_data] Downloading package stopwords to /root/nltk_data...\n",
            "[nltk_data]   Package stopwords is already up-to-date!\n",
            "[nltk_data] Downloading package punkt to /root/nltk_data...\n",
            "[nltk_data]   Package punkt is already up-to-date!\n"
          ]
        }
      ],
      "source": [
        "# Importation des bibliothèques nécessaires\n",
        "import urllib.request as re\n",
        "from nltk.tokenize import word_tokenize\n",
        "from nltk.corpus import stopwords\n",
        "import numpy as np\n",
        "from collections import defaultdict\n",
        "import nltk\n",
        "\n",
        "# Téléchargement des ressources nécessaires pour nltk\n",
        "nltk.download('stopwords')\n",
        "nltk.download('punkt')\n",
        "\n",
        "# Fonction pour charger le corpus NFCorpus\n",
        "def loadNFCorpus():\n",
        "    # Répertoire du projet\n",
        "    dir = \"./project1-2023/\"\n",
        "\n",
        "    # Chargement des documents\n",
        "    filename = dir + \"dev.docs\"\n",
        "    dicDoc = {}\n",
        "    with open(filename) as file:\n",
        "        lines = file.readlines()\n",
        "    for line in lines:\n",
        "        tabLine = line.split('\\t')\n",
        "        key = tabLine[0]\n",
        "        value = tabLine[1]\n",
        "        dicDoc[key] = value\n",
        "\n",
        "    # Chargement des requêtes\n",
        "    filename = dir + \"dev.all.queries\"\n",
        "    dicReq = {}\n",
        "    with open(filename) as file:\n",
        "        lines = file.readlines()\n",
        "    for line in lines:\n",
        "        tabLine = line.split('\\t')\n",
        "        key = tabLine[0]\n",
        "        value = tabLine[1]\n",
        "        dicReq[key] = value\n",
        "\n",
        "    # Chargement des scores de pertinence entre requêtes et documents\n",
        "    filename = dir + \"dev.2-1-0.qrel\"\n",
        "    dicReqDoc = defaultdict(dict)\n",
        "    with open(filename) as file:\n",
        "        lines = file.readlines()\n",
        "    for line in lines:\n",
        "        tabLine = line.strip().split('\\t')\n",
        "        req = tabLine[0]\n",
        "        doc = tabLine[2]\n",
        "        score = int(tabLine[3])\n",
        "        dicReqDoc[req][doc] = score\n",
        "\n",
        "    # Retourner les dictionnaires chargés\n",
        "    return dicDoc, dicReq, dicReqDoc\n"
      ]
    },
    {
      "cell_type": "code",
      "execution_count": null,
      "metadata": {
        "id": "mtiw3oxFtPDq"
      },
      "outputs": [],
      "source": [
        "# Importation des bibliothèques nécessaires\n",
        "from transformers import BertTokenizer, BertModel\n",
        "from transformers import DistilBertTokenizer, DistilBertModel\n",
        "import torch\n",
        "from collections import defaultdict\n",
        "\n",
        "# Fonction pour exécuter le modèle BERT\n",
        "def run_bert_only(startDoc, endDoc):\n",
        "    # Chargement du corpus NFCorpus\n",
        "    dicDoc, dicReq, dicReqDoc = loadNFCorpus()\n",
        "\n",
        "    # Initialisation du tokenizer et du modèle DistilBERT\n",
        "    tokenizer = DistilBertTokenizer.from_pretrained('distilbert-base-uncased')\n",
        "    model = DistilBertModel.from_pretrained('distilbert-base-uncased')\n",
        "\n",
        "    # Initialisation des listes et dictionnaires nécessaires\n",
        "    docsToKeep = []\n",
        "    reqsToKeep = []\n",
        "    dicReqDocToKeep = defaultdict(dict)\n",
        "\n",
        "    # Itération sur les requêtes et documents pour sélectionner une plage spécifique\n",
        "    i = startDoc\n",
        "    for reqId in dicReqDoc:\n",
        "        if i > (endDoc - startDoc):\n",
        "            break\n",
        "        for docId in dicReqDoc[reqId]:\n",
        "            dicReqDocToKeep[reqId][docId] = dicReqDoc[reqId][docId]\n",
        "            docsToKeep.append(docId)\n",
        "            i = i + 1\n",
        "        reqsToKeep.append(reqId)\n",
        "    docsToKeep = list(set(docsToKeep))\n",
        "\n",
        "    # Calcul des embeddings pour les documents\n",
        "    corpusDocEmbeddings = {}\n",
        "    for k in docsToKeep:\n",
        "        docTokens = tokenizer(dicDoc[k], return_tensors='pt', padding=True, truncation=True, max_length=128)\n",
        "        with torch.no_grad():\n",
        "            output = model(**docTokens)\n",
        "        embeddings = output.last_hidden_state.mean(dim=1).squeeze().numpy()\n",
        "        corpusDocEmbeddings[k] = embeddings\n",
        "\n",
        "    # Calcul des embeddings pour les requêtes\n",
        "    corpusReqEmbeddings = {}\n",
        "    for k in reqsToKeep:\n",
        "        reqTokens = tokenizer(dicReq[k], return_tensors='pt', padding=True, truncation=True)\n",
        "        with torch.no_grad():\n",
        "            output = model(**reqTokens)\n",
        "        embeddings = output.last_hidden_state.mean(dim=1).squeeze().numpy()\n",
        "        corpusReqEmbeddings[k] = embeddings\n",
        "\n",
        "    # Retour des embeddings pour les documents et les requêtes\n",
        "    return corpusDocEmbeddings, corpusReqEmbeddings\n",
        "\n",
        "# Exécution de la fonction avec une plage spécifique de documents\n",
        "nb_docs = 3192  # tous les documents\n",
        "corpusDocEmbeddings, corpusReqEmbeddings = run_bert_only(0, nb_docs)\n"
      ]
    },
    {
      "cell_type": "code",
      "source": [
        "# Parcourir toutes les clés (identifiants de document) dans corpusDocEmbeddings\n",
        "PLAIN_list = []  # Liste pour stocker les identifiants de requête\n",
        "MED_list = []    # Liste pour stocker les identifiants de document\n",
        "\n",
        "# Itération sur les embeddings des documents\n",
        "for doc_id, embedding in corpusDocEmbeddings.items():\n",
        "    MED_list.append(doc_id)\n",
        "\n",
        "# Itération sur les embeddings des requêtes\n",
        "for req_id, embedding in corpusReqEmbeddings.items():\n",
        "    PLAIN_list.append(req_id)\n",
        "\n",
        "# Conversion des listes en ensembles pour éliminer les doublons, puis en listes à nouveau\n",
        "PLAIN_list = list(set(PLAIN_list))\n",
        "MED_list = list(set(MED_list))\n",
        "\n",
        "# Affichage des identifiants de requête et de document\n",
        "print(\"MED: \\n\", MED_list, \"\\nPLAIN:\\n\", PLAIN_list)\n"
      ],
      "metadata": {
        "colab": {
          "base_uri": "https://localhost:8080/"
        },
        "id": "dPmp2l_plGhH",
        "outputId": "b8df1de7-b422-41ea-aed5-4adfa9c071bd"
      },
      "execution_count": null,
      "outputs": [
        {
          "output_type": "stream",
          "name": "stdout",
          "text": [
            "MED: \n",
            " ['MED-3485', 'MED-4589', 'MED-2106', 'MED-2891', 'MED-2053', 'MED-4095', 'MED-3770', 'MED-3635', 'MED-4071', 'MED-2424', 'MED-1812', 'MED-2704', 'MED-4038', 'MED-1846', 'MED-2170', 'MED-951', 'MED-1216', 'MED-2144', 'MED-3541', 'MED-2772', 'MED-3874', 'MED-2521', 'MED-2985', 'MED-4124', 'MED-2276', 'MED-4349', 'MED-5070', 'MED-3745', 'MED-874', 'MED-1188', 'MED-5171', 'MED-2340', 'MED-3591', 'MED-2215', 'MED-3669', 'MED-5016', 'MED-2356', 'MED-5059', 'MED-2657', 'MED-2208', 'MED-3376', 'MED-4186', 'MED-4174', 'MED-3318', 'MED-1832', 'MED-2925', 'MED-3373', 'MED-2077', 'MED-4159', 'MED-2479', 'MED-2367', 'MED-2344', 'MED-2446', 'MED-1267', 'MED-3820', 'MED-4144', 'MED-2154', 'MED-3475', 'MED-2089', 'MED-1843', 'MED-1740', 'MED-3757', 'MED-4158', 'MED-2219', 'MED-5081', 'MED-4512', 'MED-4276', 'MED-4556', 'MED-1718', 'MED-3840', 'MED-3708', 'MED-2021', 'MED-4523', 'MED-4649', 'MED-4412', 'MED-2035', 'MED-4222', 'MED-4600', 'MED-3728', 'MED-3453', 'MED-1416', 'MED-2138', 'MED-1289', 'MED-1162', 'MED-1804', 'MED-3817', 'MED-5191', 'MED-2986', 'MED-1240', 'MED-1761', 'MED-2100', 'MED-2794', 'MED-2455', 'MED-1412', 'MED-4859', 'MED-3461', 'MED-1615', 'MED-4007', 'MED-4746', 'MED-4485', 'MED-1741', 'MED-3952', 'MED-4147', 'MED-744', 'MED-2040', 'MED-1268', 'MED-2713', 'MED-2589', 'MED-4399', 'MED-1171', 'MED-2572', 'MED-2073', 'MED-4393', 'MED-3055', 'MED-3747', 'MED-5175', 'MED-2706', 'MED-2146', 'MED-2041', 'MED-1219', 'MED-1576', 'MED-2418', 'MED-3628', 'MED-3720', 'MED-4384', 'MED-2450', 'MED-1425', 'MED-3830', 'MED-2597', 'MED-4918', 'MED-2347', 'MED-4013', 'MED-3465', 'MED-3107', 'MED-1285', 'MED-2174', 'MED-2726', 'MED-4938', 'MED-5102', 'MED-2678', 'MED-2675', 'MED-4550', 'MED-1810', 'MED-5169', 'MED-3787', 'MED-3046', 'MED-2076', 'MED-4484', 'MED-3982', 'MED-1708', 'MED-3457', 'MED-3542', 'MED-3629', 'MED-3371', 'MED-4801', 'MED-2231', 'MED-3446', 'MED-3479', 'MED-4803', 'MED-4192', 'MED-2075', 'MED-3473', 'MED-4459', 'MED-4180', 'MED-4851', 'MED-4501', 'MED-3699', 'MED-3025', 'MED-1848', 'MED-2895', 'MED-3525', 'MED-2584', 'MED-757', 'MED-5324', 'MED-3800', 'MED-1858', 'MED-3372', 'MED-5190', 'MED-2504', 'MED-2130', 'MED-3798', 'MED-1140', 'MED-4019', 'MED-2673', 'MED-3695', 'MED-2049', 'MED-2139', 'MED-3484', 'MED-4540', 'MED-3652', 'MED-2046', 'MED-2966', 'MED-2578', 'MED-3813', 'MED-5073', 'MED-4316', 'MED-3811', 'MED-3035', 'MED-2591', 'MED-4469', 'MED-2646', 'MED-1616', 'MED-2607', 'MED-5170', 'MED-4658', 'MED-4128', 'MED-3598', 'MED-5325', 'MED-2414', 'MED-2094', 'MED-1442', 'MED-2205', 'MED-4554', 'MED-5152', 'MED-1833', 'MED-1312', 'MED-2493', 'MED-4742', 'MED-1172', 'MED-2972', 'MED-4710', 'MED-3951', 'MED-4735', 'MED-1850', 'MED-1181', 'MED-2136', 'MED-3734', 'MED-2063', 'MED-3094', 'MED-4035', 'MED-3447', 'MED-4377', 'MED-3350', 'MED-3442', 'MED-3443', 'MED-3229', 'MED-3595', 'MED-3476', 'MED-3555', 'MED-3315', 'MED-745', 'MED-2059', 'MED-2469', 'MED-1796', 'MED-4460', 'MED-2052', 'MED-1538', 'MED-1689', 'MED-3450', 'MED-2570', 'MED-4953', 'MED-2085', 'MED-4823', 'MED-2989', 'MED-4030', 'MED-3464', 'MED-4726', 'MED-3977', 'MED-2710', 'MED-4133', 'MED-1575', 'MED-1789', 'MED-4617', 'MED-4243', 'MED-1174', 'MED-2712', 'MED-4818', 'MED-3753', 'MED-4126', 'MED-4585', 'MED-3797', 'MED-5147', 'MED-4255', 'MED-3962', 'MED-2971', 'MED-5337', 'MED-3756', 'MED-1313', 'MED-3969', 'MED-3956', 'MED-1845', 'MED-3615', 'MED-3103', 'MED-1274', 'MED-4408', 'MED-1256', 'MED-925', 'MED-3500', 'MED-3723', 'MED-1748', 'MED-4149', 'MED-2943', 'MED-3521', 'MED-3714', 'MED-1711', 'MED-2163', 'MED-4639', 'MED-2382', 'MED-3609', 'MED-2273', 'MED-3137', 'MED-4132', 'MED-3984', 'MED-2014', 'MED-3226', 'MED-1143', 'MED-4424', 'MED-2082', 'MED-4430', 'MED-3620', 'MED-2888', 'MED-1747', 'MED-5006', 'MED-2096', 'MED-4433', 'MED-2905', 'MED-3713', 'MED-2140', 'MED-5034', 'MED-4715', 'MED-5089', 'MED-2967', 'MED-4157', 'MED-2365', 'MED-4782', 'MED-4127', 'MED-1314', 'MED-3471', 'MED-3702', 'MED-1682', 'MED-4764', 'MED-3812', 'MED-4332', 'MED-4999', 'MED-3163', 'MED-2351', 'MED-4666', 'MED-1577', 'MED-4685', 'MED-4543', 'MED-3689', 'MED-1257', 'MED-2178', 'MED-4996', 'MED-1161', 'MED-1252', 'MED-3012', 'MED-3093', 'MED-4382', 'MED-4140', 'MED-4458', 'MED-3630', 'MED-4033', 'MED-4716', 'MED-5038', 'MED-3057', 'MED-4058', 'MED-5326', 'MED-5193', 'MED-2051', 'MED-4327', 'MED-3607', 'MED-1147', 'MED-4990', 'MED-3275', 'MED-4905', 'MED-5156', 'MED-3693', 'MED-2520', 'MED-2979', 'MED-2245', 'MED-2157', 'MED-2994', 'MED-1859', 'MED-2474', 'MED-3455', 'MED-939', 'MED-4135', 'MED-4981', 'MED-2378', 'MED-2155', 'MED-2464', 'MED-1293', 'MED-2658', 'MED-2460', 'MED-5329', 'MED-3153', 'MED-4143', 'MED-3087', 'MED-4939', 'MED-3034', 'MED-1317', 'MED-2032', 'MED-3302', 'MED-3601', 'MED-3059', 'MED-3086', 'MED-5194', 'MED-3960', 'MED-3001', 'MED-3520', 'MED-3502', 'MED-4786', 'MED-4957', 'MED-3983', 'MED-2677', 'MED-2472', 'MED-1760', 'MED-4559', 'MED-3013', 'MED-3627', 'MED-3445', 'MED-2598', 'MED-4919', 'MED-3351', 'MED-3599', 'MED-2173', 'MED-1294', 'MED-3687', 'MED-4538', 'MED-3634', 'MED-3732', 'MED-4634', 'MED-4616', 'MED-3526', 'MED-3243', 'MED-3781', 'MED-2586', 'MED-3028', 'MED-2643', 'MED-2595', 'MED-2494', 'MED-2656', 'MED-4173', 'MED-3586', 'MED-3501', 'MED-2596', 'MED-2346', 'MED-3548', 'MED-4932', 'MED-3958', 'MED-4641', 'MED-3033', 'MED-5104', 'MED-4176', 'MED-4882', 'MED-2202', 'MED-4392', 'MED-3451', 'MED-4669', 'MED-3697', 'MED-2088', 'MED-4819', 'MED-2921', 'MED-3793', 'MED-1413', 'MED-4845', 'MED-4138', 'MED-2773', 'MED-3091', 'MED-940', 'MED-4317', 'MED-2039', 'MED-2098', 'MED-3681', 'MED-2546', 'MED-4423', 'MED-1390', 'MED-4233', 'MED-3771', 'MED-3060', 'MED-3252', 'MED-3668', 'MED-1311', 'MED-3619', 'MED-2990', 'MED-3248', 'MED-2360', 'MED-4069', 'MED-2239', 'MED-2581', 'MED-3744', 'MED-3054', 'MED-4171', 'MED-3724', 'MED-2337', 'MED-1420', 'MED-2904', 'MED-2660', 'MED-4172', 'MED-2364', 'MED-4954', 'MED-2893', 'MED-4607', 'MED-4984', 'MED-2705', 'MED-3895', 'MED-4024', 'MED-3497', 'MED-3649', 'MED-2158', 'MED-1272', 'MED-3513', 'MED-4025', 'MED-2702', 'MED-1157', 'MED-2274', 'MED-2468', 'MED-4891', 'MED-4876', 'MED-3193', 'MED-3375', 'MED-2083', 'MED-3554', 'MED-3381', 'MED-3533', 'MED-4711', 'MED-4457', 'MED-4627', 'MED-1813', 'MED-3452', 'MED-3775', 'MED-4278', 'MED-4418', 'MED-4101', 'MED-4170', 'MED-5000', 'MED-4068', 'MED-3105', 'MED-4452', 'MED-4656', 'MED-4872', 'MED-3976', 'MED-3530', 'MED-1574', 'MED-3848', 'MED-4000', 'MED-2982', 'MED-2036', 'MED-3535', 'MED-2054', 'MED-3667', 'MED-4130', 'MED-3085', 'MED-2359', 'MED-2999', 'MED-873', 'MED-4125', 'MED-1341', 'MED-3821', 'MED-4628', 'MED-2703', 'MED-1533', 'MED-2649', 'MED-2200', 'MED-4060', 'MED-4930', 'MED-4319', 'MED-4762', 'MED-1300', 'MED-4936', 'MED-4654', 'MED-3552', 'MED-3963', 'MED-1146', 'MED-5077', 'MED-1160', 'MED-1444', 'MED-5122', 'MED-5332', 'MED-2203', 'MED-3108', 'MED-5121', 'MED-4602', 'MED-3110', 'MED-3348', 'MED-3231', 'MED-1282', 'MED-4652', 'MED-3378', 'MED-1580', 'MED-4653', 'MED-1271', 'MED-2506', 'MED-3384', 'MED-4425', 'MED-3685', 'MED-4385', 'MED-2304', 'MED-2824', 'MED-4615', 'MED-1217', 'MED-4461', 'MED-2156', 'MED-3232', 'MED-3721', 'MED-3089', 'MED-3626', 'MED-4474', 'MED-3953', 'MED-1690', 'MED-1610', 'MED-4057', 'MED-4531', 'MED-4281', 'MED-1266', 'MED-2069', 'MED-4161', 'MED-5132', 'MED-2679', 'MED-4944', 'MED-762', 'MED-4160', 'MED-3383', 'MED-4023', 'MED-4613', 'MED-1243', 'MED-4912', 'MED-1273', 'MED-4620', 'MED-2090', 'MED-2043', 'MED-2885', 'MED-2065', 'MED-2602', 'MED-4446', 'MED-4183', 'MED-3531', 'MED-3819', 'MED-3316', 'MED-3603', 'MED-2016', 'MED-1837', 'MED-3758', 'MED-4668', 'MED-2661', 'MED-4629', 'MED-1844', 'MED-2599', 'MED-4410', 'MED-3946', 'MED-4794', 'MED-4156', 'MED-3682', 'MED-3215', 'MED-1304', 'MED-4844', 'MED-4187', 'MED-2177', 'MED-3241', 'MED-4778', 'MED-5338', 'MED-2420', 'MED-3690', 'MED-2175', 'MED-3141', 'MED-5328', 'MED-2926', 'MED-3444', 'MED-3964', 'MED-1687', 'MED-2571', 'MED-1685', 'MED-2171', 'MED-2027', 'MED-2379', 'MED-1419', 'MED-5120', 'MED-1706', 'MED-4141', 'MED-3143', 'MED-3441', 'MED-2339', 'MED-3748', 'MED-3588', 'MED-2924', 'MED-1602', 'MED-4873', 'MED-1254', 'MED-4313', 'MED-4179', 'MED-4072', 'MED-3354', 'MED-2448', 'MED-4631', 'MED-1752', 'MED-4417', 'MED-5197', 'MED-4943', 'MED-2654', 'MED-4465', 'MED-1176', 'MED-3672', 'MED-4287', 'MED-3631', 'MED-756', 'MED-2997', 'MED-3716', 'MED-5333', 'MED-2513', 'MED-3834', 'MED-1803', 'MED-2922', 'MED-4055', 'MED-1798', 'MED-2303', 'MED-1864', 'MED-4456', 'MED-2338', 'MED-2461', 'MED-2445', 'MED-4644', 'MED-5189', 'MED-2350', 'MED-3608', 'MED-2127', 'MED-924', 'MED-1801', 'MED-1579', 'MED-2449', 'MED-4588', 'MED-2812', 'MED-4165', 'MED-1754', 'MED-2507', 'MED-5138', 'MED-5188', 'MED-2676', 'MED-3789', 'MED-1302', 'MED-3164', 'MED-1283', 'MED-3509', 'MED-2176', 'MED-3719', 'MED-3900', 'MED-3139', 'MED-3482', 'MED-4239', 'MED-1253', 'MED-3816', 'MED-3966', 'MED-5072', 'MED-3876', 'MED-914', 'MED-4548', 'MED-2529', 'MED-5080', 'MED-3978', 'MED-4587', 'MED-4182', 'MED-4941', 'MED-2423', 'MED-4810', 'MED-1693', 'MED-2603', 'MED-4342', 'MED-4560', 'MED-3460', 'MED-3730', 'MED-3636', 'MED-3776', 'MED-3250', 'MED-4265', 'MED-3098', 'MED-1686', 'MED-5071', 'MED-4102', 'MED-4785', 'MED-3380', 'MED-4854', 'MED-2132', 'MED-3673', 'MED-2577', 'MED-1287', 'MED-3773', 'MED-3704', 'MED-4799', 'MED-3498', 'MED-3653', 'MED-5335', 'MED-1738', 'MED-4665', 'MED-2159', 'MED-3651', 'MED-118', 'MED-3729', 'MED-3688', 'MED-4671', 'MED-5040', 'MED-3221', 'MED-4544', 'MED-2240', 'MED-4324', 'MED-5146', 'MED-4780', 'MED-4228', 'MED-3906', 'MED-4545', 'MED-2593', 'MED-2067', 'MED-3878', 'MED-2698', 'MED-2020', 'MED-4455', 'MED-4402', 'MED-1842', 'MED-4169', 'MED-4630', 'MED-2605', 'MED-3358', 'MED-4978', 'MED-1278', 'MED-4047', 'MED-1651', 'MED-1581', 'MED-1381', 'MED-4989', 'MED-1418', 'MED-2458', 'MED-3496', 'MED-1415', 'MED-4646', 'MED-3796', 'MED-2305', 'MED-3161', 'MED-2102', 'MED-5134', 'MED-4539', 'MED-1441', 'MED-2459', 'MED-2234', 'MED-3456', 'MED-4853', 'MED-2060', 'MED-3751', 'MED-2488', 'MED-2910', 'MED-5092', 'MED-3752', 'MED-4225', 'MED-3875', 'MED-1582', 'MED-3236', 'MED-4100', 'MED-3510', 'MED-2980', 'MED-4887', 'MED-3353', 'MED-938', 'MED-2107', 'MED-4847', 'MED-915', 'MED-4383', 'MED-2497', 'MED-2814', 'MED-3959', 'MED-2068', 'MED-2604', 'MED-860', 'MED-4513', 'MED-5110', 'MED-3711', 'MED-2357', 'MED-4686', 'MED-1177', 'MED-2079', 'MED-1421', 'MED-1291', 'MED-1695', 'MED-2968', 'MED-2233', 'MED-1388', 'MED-4442', 'MED-3678', 'MED-2648', 'MED-2165', 'MED-2129', 'MED-4553', 'MED-1751', 'MED-3707', 'MED-2108', 'MED-4771', 'MED-3970', 'MED-2984', 'MED-3540', 'MED-3279', 'MED-2026', 'MED-1736', 'MED-3165', 'MED-5018', 'MED-2575', 'MED-1853', 'MED-3670', 'MED-2771', 'MED-3709', 'MED-5065', 'MED-2013', 'MED-2381', 'MED-2993', 'MED-2519', 'MED-2349', 'MED-3806', 'MED-2128', 'MED-2655', 'MED-2579', 'MED-3979', 'MED-3683', 'MED-2763', 'MED-1393', 'MED-2047', 'MED-2153', 'MED-3944', 'MED-5322', 'MED-3247', 'MED-329', 'MED-4049', 'MED-2207', 'MED-5149', 'MED-2150', 'MED-847', 'MED-2361', 'MED-1218', 'MED-4006', 'MED-2601', 'MED-1308', 'MED-2559', 'MED-2141', 'MED-2137', 'MED-2306', 'MED-4776', 'MED-1276', 'MED-1279', 'MED-3512', 'MED-3095', 'MED-3142', 'MED-2484', 'MED-3853', 'MED-4053', 'MED-2363', 'MED-4502', 'MED-4142', 'MED-2627', 'MED-1819', 'MED-5331', 'MED-4022', 'MED-1184', 'MED-3459', 'MED-2695', 'MED-4534', 'MED-2983', 'MED-4802', 'MED-4148', 'MED-1617', 'MED-1316', 'MED-2590', 'MED-1792', 'MED-1797', 'MED-2169', 'MED-2700', 'MED-2353', 'MED-2278', 'MED-2172', 'MED-2246', 'MED-3731', 'MED-3233', 'MED-3462', 'MED-859', 'MED-2044', 'MED-2619', 'MED-5117', 'MED-2024', 'MED-2058', 'MED-4643', 'MED-1618', 'MED-4576', 'MED-4463', 'MED-3606', 'MED-5053', 'MED-3671', 'MED-5109', 'MED-3710', 'MED-3665', 'MED-4328', 'MED-4638', 'MED-1701', 'MED-3755', 'MED-2694', 'MED-4804', 'MED-2247', 'MED-3718', 'MED-1187', 'MED-950', 'MED-2456', 'MED-1817', 'MED-4139', 'MED-3523', 'MED-2038', 'MED-5133', 'MED-3379', 'MED-1613', 'MED-4667', 'MED-2697', 'MED-3272', 'MED-3058', 'MED-2568', 'MED-1802', 'MED-4940', 'MED-5112', 'MED-2452', 'MED-4450', 'MED-5363', 'MED-3602', 'MED-4886', 'MED-4075', 'MED-2889', 'MED-2928', 'MED-2066', 'MED-4863', 'MED-2693', 'MED-3942', 'MED-1185', 'MED-4921', 'MED-3833', 'MED-2644', 'MED-2988', 'MED-4451', 'MED-3173', 'MED-1841', 'MED-3968', 'MED-4005', 'MED-5130', 'MED-4004', 'MED-2517', 'MED-4448', 'MED-4590', 'MED-4134', 'MED-4194', 'MED-2890', 'MED-1847', 'MED-3717', 'MED-1857', 'MED-4604', 'MED-2580', 'MED-3527', 'MED-875', 'MED-1836', 'MED-1811', 'MED-3499', 'MED-5079', 'MED-1339', 'MED-3270', 'MED-3271', 'MED-4640', 'MED-4875', 'MED-3801', 'MED-910', 'MED-3506', 'MED-4480', 'MED-4193', 'MED-4330', 'MED-3092', 'MED-5196', 'MED-4551', 'MED-1165', 'MED-3786', 'MED-2341', 'MED-2064', 'MED-3676', 'MED-3680', 'MED-1443', 'MED-3618', 'MED-3511', 'MED-3622', 'MED-4988', 'MED-4987', 'MED-4291', 'MED-3772', 'MED-2099', 'MED-3543', 'MED-2594', 'MED-3694', 'MED-4518', 'MED-5339', 'MED-5303', 'MED-3027', 'MED-4991', 'MED-5037', 'MED-3587', 'MED-2512', 'MED-3896', 'MED-4146', 'MED-2544', 'MED-937', 'MED-2161', 'MED-2028', 'MED-2518', 'MED-4621', 'MED-3810', 'MED-1280', 'MED-2884', 'MED-4288', 'MED-758', 'MED-5019', 'MED-4907', 'MED-3374', 'MED-3168', 'MED-2899', 'MED-1327', 'MED-746', 'MED-3370', 'MED-5128', 'MED-1795', 'MED-4184', 'MED-2152', 'MED-2426', 'MED-3941', 'MED-4797', 'MED-1720', 'MED-3228', 'MED-2696', 'MED-2892', 'MED-1620', 'MED-2057', 'MED-2243', 'MED-2135', 'MED-2416', 'MED-2511', 'MED-5008', 'MED-3897', 'MED-3666', 'MED-3136', 'MED-3632', 'MED-4811', 'MED-2162', 'MED-3947', 'MED-3102', 'MED-5060', 'MED-1249', 'MED-1840', 'MED-1158', 'MED-4487', 'MED-3625', 'MED-2033', 'MED-5151', 'MED-5113', 'MED-2970', 'MED-4883', 'MED-4482', 'MED-2770', 'MED-1609', 'MED-5055', 'MED-2708', 'MED-4881', 'MED-1534', 'MED-1309', 'MED-2103', 'MED-4612', 'MED-3790', 'MED-4266', 'MED-3674', 'MED-3715', 'MED-3052', 'MED-5054', 'MED-2707', 'MED-5154', 'MED-3547', 'MED-1793', 'MED-3100', 'MED-2501', 'MED-3783', 'MED-3950', 'MED-5087', 'MED-2093', 'MED-3738', 'MED-2166', 'MED-2652', 'MED-2384', 'MED-5341', 'MED-3677', 'MED-1247', 'MED-3843', 'MED-3166', 'MED-3943', 'MED-4197', 'MED-2235', 'MED-2034', 'MED-5131', 'MED-4099', 'MED-3712', 'MED-1301', 'MED-4767', 'MED-4942', 'MED-3051', 'MED-1871', 'MED-3703', 'MED-3815', 'MED-3967', 'MED-1790', 'MED-3545', 'MED-2514', 'MED-3648', 'MED-3836', 'MED-3675', 'MED-3818', 'MED-3945', 'MED-2769', 'MED-4722', 'MED-5088', 'MED-3784', 'MED-3359', 'MED-3283', 'MED-1714', 'MED-4002', 'MED-3377', 'MED-3532', 'MED-3477', 'MED-1791', 'MED-3021', 'MED-5001', 'MED-1426', 'MED-1696', 'MED-4037', 'MED-3679', 'MED-3474', 'MED-4994', 'MED-1338', 'MED-4034', 'MED-2820', 'MED-4188', 'MED-4769', 'MED-2495', 'MED-4464', 'MED-4536', 'MED-2585', 'MED-2074', 'MED-1683', 'MED-3245', 'MED-5033', 'MED-3722', 'MED-2229', 'MED-3743', 'MED-4475', 'MED-3706', 'MED-1167', 'MED-1221', 'MED-4329', 'MED-3742', 'MED-4632', 'MED-1800', 'MED-4532', 'MED-2164', 'MED-4029', 'MED-5085', 'MED-3282', 'MED-3692', 'MED-4059', 'MED-3544', 'MED-1242', 'MED-4454', 'MED-3514', 'MED-5172', 'MED-3111', 'MED-3237', 'MED-2071', 'MED-4476', 'MED-4642', 'MED-3454', 'MED-5237', 'MED-3481', 'MED-5090', 'MED-3633', 'MED-4001', 'MED-3227', 'MED-2355', 'MED-2923', 'MED-2062', 'MED-4524', 'MED-2699', 'MED-2031', 'MED-2774', 'MED-3893', 'MED-4520', 'MED-4655', 'MED-4267', 'MED-1417', 'MED-2573', 'MED-4976', 'MED-3691', 'MED-2662', 'MED-1794', 'MED-2496', 'MED-3528', 'MED-2145', 'MED-4411', 'MED-2050', 'MED-1258', 'MED-2714', 'MED-2209', 'MED-3782', 'MED-3508', 'MED-2080', 'MED-3469', 'MED-3621', 'MED-3478', 'MED-2709', 'MED-1248', 'MED-3590', 'MED-4486', 'MED-2587', 'MED-5135', 'MED-4181', 'MED-2078', 'MED-1743', 'MED-1724', 'MED-2482', 'MED-5340', 'MED-2101', 'MED-1139', 'MED-1799', 'MED-3769', 'MED-3617', 'MED-4535', 'MED-2092', 'MED-4743', 'MED-1315', 'MED-1750', 'MED-905', 'MED-3458', 'MED-3030', 'MED-2509', 'MED-2588', 'MED-3832', 'MED-1611', 'MED-4290', 'MED-4185', 'MED-3023', 'MED-2510', 'MED-1290', 'MED-2086', 'MED-3305', 'MED-4325', 'MED-3822', 'MED-4533', 'MED-1246', 'MED-3965', 'MED-3955', 'MED-743', 'MED-4289', 'MED-1170', 'MED-2352', 'MED-2653', 'MED-3807', 'MED-2368', 'MED-3281', 'MED-3251', 'MED-3910', 'MED-2366', 'MED-1277', 'MED-5334', 'MED-3589', 'MED-3877', 'MED-3056', 'MED-3217', 'MED-1245', 'MED-2232', 'MED-4481', 'MED-1852', 'MED-5108', 'MED-4178', 'MED-4719', 'MED-1722', 'MED-4177', 'MED-3313', 'MED-4516', 'MED-5061', 'MED-3726', 'MED-3549', 'MED-2502', 'MED-1849', 'MED-1292', 'MED-2616', 'MED-4358', 'MED-4637', 'MED-2453', 'MED-2722', 'MED-2606', 'MED-2498', 'MED-4073', 'MED-3519', 'MED-3369', 'MED-1619', 'MED-3954', 'MED-2674', 'MED-4195', 'MED-4131', 'MED-4849', 'MED-5195', 'MED-1389', 'MED-5105', 'MED-4129', 'MED-2647', 'MED-1749', 'MED-5177', 'MED-2201', 'MED-2886', 'MED-4846', 'MED-5204', 'MED-2097', 'MED-2037', 'MED-4712', 'MED-4468', 'MED-4027', 'MED-3238', 'MED-2592', 'MED-4768', 'MED-2775', 'MED-4106', 'MED-2272', 'MED-3274', 'MED-2906', 'MED-1820', 'MED-736', 'MED-3809', 'MED-3278', 'MED-2376', 'MED-2882', 'MED-2618', 'MED-1299', 'MED-1295', 'MED-3157', 'MED-1614', 'MED-4196', 'MED-4447', 'MED-4483', 'MED-3794', 'MED-3550', 'MED-1814', 'MED-1173', 'MED-5007', 'MED-2204', 'MED-4852', 'MED-4070', 'MED-4031', 'MED-2030', 'MED-4843', 'MED-4220', 'MED-4517', 'MED-3099', 'MED-3780', 'MED-2383', 'MED-4365', 'MED-5035', 'MED-4906', 'MED-1250', 'MED-4798', 'MED-4284', 'MED-1284', 'MED-4479', 'MED-3981', 'MED-2362', 'MED-3449', 'MED-4578', 'MED-3949', 'MED-4831', 'MED-2168', 'MED-4760', 'MED-2451', 'MED-2221', 'MED-1578', 'MED-3138', 'MED-3053', 'MED-4635', 'MED-3106', 'MED-4888', 'MED-2422', 'MED-5327', 'MED-3000', 'MED-4407', 'MED-2475', 'MED-3961', 'MED-4050', 'MED-2091', 'MED-3024', 'MED-3197', 'MED-3733', 'MED-4821', 'MED-2042', 'MED-3355', 'MED-1340', 'MED-3539', 'MED-1298', 'MED-3273', 'MED-926', 'MED-4609', 'MED-3551', 'MED-4911', 'MED-1215', 'MED-3382', 'MED-3596', 'MED-2907', 'MED-2105', 'MED-3791', 'MED-3310', 'MED-2244', 'MED-2505', 'MED-4292', 'MED-2417', 'MED-4223', 'MED-2348', 'MED-4985', 'MED-3483', 'MED-3750', 'MED-2048', 'MED-3795', 'MED-4820', 'MED-2815', 'MED-2210', 'MED-1650', 'MED-4977', 'MED-5032', 'MED-4633', 'MED-3352', 'MED-5118', 'MED-1414', 'MED-2659', 'MED-3904', 'MED-2650', 'MED-5148', 'MED-4175', 'MED-4800', 'MED-4606', 'MED-1860', 'MED-1535', 'MED-3467', 'MED-1612', 'MED-1688', 'MED-4051', 'MED-4744', 'MED-2087', 'MED-3686', 'MED-1164', 'MED-2022', 'MED-5086', 'MED-4400', 'MED-5239', 'MED-1175', 'MED-4247', 'MED-1166', 'MED-3534', 'MED-3044', 'MED-3198', 'MED-330', 'MED-4998', 'MED-4443', 'MED-1186', 'MED-1178', 'MED-4403', 'MED-3792', 'MED-1707', 'MED-3593', 'MED-1241', 'MED-1303', 'MED-4779', 'MED-3507', 'MED-1142', 'MED-3908', 'MED-3242', 'MED-5005', 'MED-4605', 'MED-2056', 'MED-4880', 'MED-1739', 'MED-5293', 'MED-3235', 'MED-2345', 'MED-1697', 'MED-1807', 'MED-5020', 'MED-2489', 'MED-2913', 'MED-3038', 'MED-4389', 'MED-3156', 'MED-1808', 'MED-2220', 'MED-3761', 'MED-3705', 'MED-5323', 'MED-4619', 'MED-4036', 'MED-5137', 'MED-4736', 'MED-1281', 'MED-4391', 'MED-2894', 'MED-3546', 'MED-3230', 'MED-2160', 'MED-4416', 'MED-1288', 'MED-4733', 'MED-1387', 'MED-3277', 'MED-5116', 'MED-2421', 'MED-4897', 'MED-3749', 'MED-3760', 'MED-4390', 'MED-3604', 'MED-2167', 'MED-2969', 'MED-4271', 'MED-4848', 'MED-1394', 'MED-2045', 'MED-1818', 'MED-4850', 'MED-1839', 'MED-2380', 'MED-1144', 'MED-3356', 'MED-3280', 'MED-3480', 'MED-5028', 'MED-4269', 'MED-1305', 'MED-4689', 'MED-3524', 'MED-3592', 'MED-3308', 'MED-4440', 'MED-3610', 'MED-3754', 'MED-1710', 'MED-3597', 'MED-4687', 'MED-5039', 'MED-1337', 'MED-2617', 'MED-3158', 'MED-4032', 'MED-5150', 'MED-3466', 'MED-5063', 'MED-3220', 'MED-1831', 'MED-4860', 'MED-4890', 'MED-5069', 'MED-2645', 'MED-5115', 'MED-1307', 'MED-3216', 'MED-4162', 'MED-1691', 'MED-4795', 'MED-4227', 'MED-3759', 'MED-3518', 'MED-4541', 'MED-2672', 'MED-3088', 'MED-3788', 'MED-2816', 'MED-3244', 'MED-2070', 'MED-3553', 'MED-3090', 'MED-4137', 'MED-3448', 'MED-3799', 'MED-4992', 'MED-1265', 'MED-5192', 'MED-2711', 'MED-1712', 'MED-3249', 'MED-1717', 'MED-2369', 'MED-2671', 'MED-4511', 'MED-4796', 'MED-1723', 'MED-2134', 'MED-1851', 'MED-4871', 'MED-3140', 'MED-4920', 'MED-4445', 'MED-4763', 'MED-4318', 'MED-2651', 'MED-1838', 'MED-3808', 'MED-1834', 'MED-4320', 'MED-3276', 'MED-4150', 'MED-3785', 'MED-1709', 'MED-2476', 'MED-3050', 'MED-3585', 'MED-3096', 'MED-3495', 'MED-1716', 'MED-3288', 'MED-2582', 'MED-2471', 'MED-3312', 'MED-1715', 'MED-2992', 'MED-4154', 'MED-3623', 'MED-2206', 'MED-3894', 'MED-2574', 'MED-2917', 'MED-2019', 'MED-4145', 'MED-2095', 'MED-4226', 'MED-4522', 'MED-3522', 'MED-5330', 'MED-1737', 'MED-3494', 'MED-2143', 'MED-2583', 'MED-4136', 'MED-4884', 'MED-1753', 'MED-4874', 'MED-1606', 'MED-2029', 'MED-3841', 'MED-1721', 'MED-2898', 'MED-3774', 'MED-1220', 'MED-1806', 'MED-2354', 'MED-5064', 'MED-1386', 'MED-4477', 'MED-4651', 'MED-4841', 'MED-4357', 'MED-1296', 'MED-4650', 'MED-5129', 'MED-2608', 'MED-3112', 'MED-5114', 'MED-4415', 'MED-4462', 'MED-3109', 'MED-1719', 'MED-2061', 'MED-5062', 'MED-4224', 'MED-4303', 'MED-2055', 'MED-2018', 'MED-5173', 'MED-3845', 'MED-2987', 'MED-3624', 'MED-3980', 'MED-1169', 'MED-4783', 'MED-4777', 'MED-1383', 'MED-5342', 'MED-4680', 'MED-1244', 'MED-4286'] \n",
            "PLAIN:\n",
            " ['PLAIN-111', 'PLAIN-996', 'PLAIN-530', 'PLAIN-540', 'PLAIN-781', 'PLAIN-720', 'PLAIN-132', 'PLAIN-965', 'PLAIN-891', 'PLAIN-816', 'PLAIN-612', 'PLAIN-101', 'PLAIN-805', 'PLAIN-11', 'PLAIN-791', 'PLAIN-570', 'PLAIN-164', 'PLAIN-216', 'PLAIN-670', 'PLAIN-67', 'PLAIN-700', 'PLAIN-730', 'PLAIN-90', 'PLAIN-602', 'PLAIN-912', 'PLAIN-945', 'PLAIN-933', 'PLAIN-519', 'PLAIN-710', 'PLAIN-976', 'PLAIN-279', 'PLAIN-247', 'PLAIN-633', 'PLAIN-750', 'PLAIN-122', 'PLAIN-357', 'PLAIN-195', 'PLAIN-508', 'PLAIN-467', 'PLAIN-560', 'PLAIN-760', 'PLAIN-582', 'PLAIN-881', 'PLAIN-206', 'PLAIN-871', 'PLAIN-55', 'PLAIN-319', 'PLAIN-152', 'PLAIN-370', 'PLAIN-174', 'PLAIN-142', 'PLAIN-1007', 'PLAIN-428', 'PLAIN-656', 'PLAIN-901', 'PLAIN-185', 'PLAIN-331', 'PLAIN-417', 'PLAIN-440', 'PLAIN-986', 'PLAIN-498', 'PLAIN-550', 'PLAIN-32', 'PLAIN-644', 'PLAIN-43', 'PLAIN-923', 'PLAIN-622', 'PLAIN-394', 'PLAIN-290', 'PLAIN-955', 'PLAIN-592', 'PLAIN-1', 'PLAIN-382', 'PLAIN-848', 'PLAIN-770', 'PLAIN-77', 'PLAIN-258', 'PLAIN-477', 'PLAIN-487', 'PLAIN-269', 'PLAIN-304', 'PLAIN-740', 'PLAIN-226', 'PLAIN-837', 'PLAIN-22', 'PLAIN-343', 'PLAIN-859', 'PLAIN-680', 'PLAIN-456', 'PLAIN-237', 'PLAIN-406', 'PLAIN-690', 'PLAIN-826']\n"
          ]
        }
      ]
    },
    {
      "cell_type": "code",
      "source": [
        "filename = dir + \"dev.2-1-0.qrel\"\n",
        "dicReqDoc = defaultdict(dict)\n",
        "\n",
        "# Charger le fichier dev.2-1-0.qrel et construire le dictionnaire des scores de pertinence\n",
        "with open(filename) as file:\n",
        "    lines = file.readlines()\n",
        "\n",
        "relevance = []  # Liste pour stocker les scores de pertinence\n",
        "for line in lines:\n",
        "    tabLine = line.strip().split('\\t')\n",
        "\n",
        "    req = tabLine[0]\n",
        "    doc = tabLine[2]\n",
        "    score = int(tabLine[3])\n",
        "    dicReqDoc[req][doc] = score\n",
        "\n",
        "# Parcourir toutes les requêtes dans dicReqDoc\n",
        "for req, scores_pertinence in dicReqDoc.items():\n",
        "\n",
        "    # Ajouter les scores de pertinence à la liste\n",
        "    relevance.extend(list(scores_pertinence.values()))\n",
        "\n",
        "# Afficher la liste complète des scores de pertinence ainsi que les listes d'identifiants de requête et de document\n",
        "print(\"Scores de pertinence : \", relevance)\n",
        "print(\"Identifiants de requête : \", PLAIN_list)\n",
        "print(\"Identifiants de document : \", MED_list)\n"
      ],
      "metadata": {
        "colab": {
          "base_uri": "https://localhost:8080/"
        },
        "id": "1sETvwUudaXl",
        "outputId": "8c5d3e29-1942-4eeb-d6c6-3f1be8bc2261"
      },
      "execution_count": null,
      "outputs": [
        {
          "output_type": "stream",
          "name": "stdout",
          "text": [
            "Scores de pertinence :  [2, 2, 2, 2, 2, 2, 2, 2, 1, 1, 1, 1, 1, 1, 1, 1, 1, 1, 1, 1, 1, 1, 1, 1, 1, 1, 1, 1, 1, 1, 1, 1, 1, 1, 1, 1, 1, 1, 1, 1, 1, 1, 1, 1, 1, 1, 1, 1, 1, 2, 2, 2, 2, 2, 2, 2, 2, 2, 2, 2, 1, 1, 1, 1, 1, 1, 1, 1, 1, 1, 1, 1, 1, 1, 1, 1, 1, 1, 1, 1, 1, 1, 1, 1, 1, 1, 1, 1, 1, 1, 1, 1, 1, 1, 1, 1, 1, 1, 1, 1, 1, 1, 1, 1, 1, 1, 2, 2, 2, 2, 1, 1, 1, 1, 1, 1, 1, 1, 1, 1, 1, 1, 1, 1, 1, 1, 1, 1, 1, 1, 1, 1, 1, 1, 1, 1, 1, 1, 1, 1, 1, 1, 1, 1, 1, 1, 1, 1, 1, 1, 1, 1, 1, 1, 1, 1, 1, 1, 1, 1, 1, 1, 1, 1, 1, 1, 1, 1, 1, 1, 1, 2, 2, 2, 2, 2, 2, 1, 1, 1, 1, 1, 1, 1, 1, 1, 1, 1, 1, 1, 1, 1, 1, 1, 1, 1, 1, 1, 1, 1, 1, 2, 2, 2, 2, 2, 2, 2, 2, 1, 1, 1, 1, 1, 1, 1, 1, 1, 1, 1, 1, 1, 1, 1, 1, 1, 1, 1, 1, 1, 1, 1, 1, 1, 1, 1, 1, 1, 1, 1, 1, 1, 1, 1, 2, 2, 2, 2, 2, 2, 1, 1, 1, 1, 1, 1, 1, 1, 1, 1, 1, 1, 1, 1, 1, 1, 1, 1, 1, 1, 1, 1, 1, 1, 1, 1, 1, 1, 1, 1, 1, 1, 1, 1, 1, 1, 1, 1, 1, 1, 1, 1, 1, 1, 1, 1, 1, 1, 2, 2, 2, 2, 2, 1, 1, 1, 1, 1, 1, 1, 1, 1, 1, 1, 1, 1, 1, 1, 1, 1, 1, 1, 1, 1, 1, 1, 1, 2, 2, 2, 2, 2, 2, 2, 2, 2, 2, 2, 2, 2, 1, 1, 1, 1, 1, 1, 1, 1, 1, 1, 1, 1, 1, 1, 1, 1, 1, 1, 1, 1, 1, 1, 1, 1, 1, 1, 1, 1, 1, 1, 1, 1, 1, 1, 1, 1, 1, 1, 1, 1, 1, 1, 1, 2, 2, 2, 2, 2, 1, 1, 1, 1, 1, 1, 1, 1, 1, 1, 1, 1, 1, 1, 1, 1, 1, 1, 1, 1, 1, 1, 1, 1, 1, 1, 2, 2, 1, 1, 1, 1, 1, 1, 1, 1, 1, 1, 1, 1, 1, 1, 1, 1, 1, 1, 1, 1, 1, 1, 1, 1, 1, 1, 1, 1, 1, 1, 1, 1, 1, 1, 1, 1, 1, 1, 1, 1, 1, 1, 1, 1, 1, 2, 2, 2, 2, 1, 1, 1, 1, 1, 1, 1, 1, 1, 1, 1, 1, 1, 1, 1, 1, 1, 1, 1, 1, 1, 1, 1, 1, 1, 1, 1, 1, 1, 1, 1, 1, 1, 1, 1, 1, 1, 1, 1, 1, 1, 2, 2, 2, 2, 2, 2, 2, 1, 1, 1, 1, 1, 1, 1, 1, 1, 1, 1, 1, 1, 1, 1, 1, 1, 1, 1, 1, 1, 1, 1, 2, 2, 2, 1, 1, 1, 1, 1, 1, 1, 1, 1, 1, 1, 1, 1, 1, 1, 1, 1, 1, 1, 1, 1, 1, 1, 1, 1, 1, 1, 1, 1, 1, 1, 1, 1, 1, 1, 1, 1, 1, 1, 1, 1, 1, 1, 1, 1, 1, 1, 1, 1, 1, 1, 1, 1, 1, 1, 1, 1, 1, 1, 1, 1, 1, 1, 1, 1, 2, 2, 1, 1, 1, 1, 1, 1, 1, 1, 1, 1, 1, 1, 1, 1, 1, 1, 1, 1, 1, 1, 1, 1, 1, 1, 1, 1, 1, 1, 1, 1, 1, 1, 1, 1, 1, 1, 1, 1, 1, 1, 1, 1, 1, 1, 1, 1, 1, 1, 1, 1, 1, 1, 1, 1, 1, 1, 1, 1, 1, 1, 1, 1, 1, 1, 1, 1, 1, 1, 1, 1, 1, 1, 1, 1, 1, 1, 1, 1, 1, 1, 1, 1, 1, 1, 1, 1, 1, 1, 1, 1, 2, 1, 1, 1, 1, 1, 1, 1, 1, 1, 1, 1, 1, 1, 1, 1, 1, 1, 1, 1, 1, 1, 1, 1, 1, 1, 1, 1, 1, 1, 1, 1, 1, 1, 1, 1, 1, 1, 1, 1, 1, 1, 1, 1, 1, 1, 1, 1, 1, 1, 1, 1, 1, 1, 1, 1, 1, 1, 1, 1, 1, 1, 1, 1, 1, 1, 1, 1, 1, 1, 1, 1, 1, 1, 1, 1, 1, 1, 1, 1, 1, 1, 1, 1, 1, 1, 1, 1, 1, 1, 1, 1, 1, 1, 1, 1, 1, 1, 1, 1, 1, 1, 1, 1, 1, 1, 1, 1, 1, 1, 1, 1, 1, 1, 1, 1, 1, 1, 1, 1, 1, 1, 1, 1, 1, 1, 1, 1, 1, 1, 1, 1, 1, 1, 1, 1, 1, 1, 1, 1, 1, 1, 1, 1, 1, 1, 1, 1, 1, 1, 1, 1, 1, 1, 1, 1, 1, 1, 1, 1, 1, 1, 1, 1, 1, 1, 1, 1, 1, 1, 1, 1, 1, 1, 1, 1, 1, 1, 1, 1, 1, 1, 1, 1, 1, 1, 1, 1, 1, 1, 1, 1, 1, 1, 1, 1, 1, 1, 1, 1, 1, 1, 1, 1, 1, 1, 1, 1, 1, 1, 1, 1, 1, 1, 1, 1, 1, 1, 1, 1, 1, 1, 1, 1, 1, 1, 1, 1, 1, 1, 1, 1, 1, 1, 1, 1, 1, 1, 1, 1, 1, 1, 1, 1, 1, 1, 1, 1, 1, 1, 1, 1, 1, 1, 1, 1, 1, 1, 1, 1, 1, 1, 1, 1, 1, 1, 1, 1, 1, 1, 1, 1, 1, 1, 1, 1, 1, 1, 1, 1, 1, 1, 1, 1, 1, 1, 1, 1, 1, 1, 1, 1, 1, 1, 1, 1, 1, 1, 1, 1, 1, 1, 1, 1, 1, 1, 1, 1, 1, 1, 1, 1, 1, 1, 1, 1, 1, 1, 1, 1, 1, 1, 1, 1, 1, 1, 1, 1, 1, 1, 1, 1, 1, 1, 1, 1, 1, 1, 1, 1, 1, 1, 1, 1, 1, 1, 1, 1, 1, 1, 1, 1, 1, 1, 1, 1, 1, 1, 1, 1, 1, 1, 1, 1, 1, 1, 1, 1, 1, 1, 1, 1, 1, 1, 1, 1, 1, 1, 1, 1, 1, 1, 1, 1, 1, 1, 1, 1, 1, 1, 1, 1, 1, 2, 2, 1, 1, 1, 1, 1, 1, 1, 1, 1, 1, 1, 2, 2, 2, 1, 1, 1, 1, 1, 1, 1, 1, 1, 1, 1, 1, 1, 1, 1, 1, 1, 1, 1, 1, 1, 1, 1, 1, 1, 1, 1, 1, 2, 2, 2, 1, 1, 1, 1, 1, 1, 1, 1, 1, 1, 1, 1, 1, 1, 1, 1, 1, 1, 1, 1, 1, 1, 1, 1, 1, 1, 1, 1, 1, 1, 1, 1, 1, 1, 1, 1, 1, 1, 1, 1, 1, 1, 1, 1, 1, 1, 1, 1, 1, 1, 1, 1, 1, 1, 1, 1, 1, 1, 1, 1, 2, 2, 1, 1, 1, 1, 2, 2, 2, 1, 1, 1, 1, 1, 1, 2, 1, 1, 1, 1, 1, 1, 1, 1, 1, 1, 1, 1, 1, 1, 1, 1, 1, 1, 1, 1, 1, 1, 1, 1, 2, 2, 1, 1, 1, 2, 2, 2, 2, 2, 2, 2, 1, 1, 1, 1, 1, 1, 1, 1, 1, 2, 2, 1, 1, 1, 1, 1, 1, 1, 1, 1, 1, 1, 1, 1, 1, 1, 1, 1, 1, 1, 1, 1, 1, 1, 1, 1, 1, 1, 1, 1, 1, 1, 1, 1, 1, 1, 1, 1, 1, 1, 1, 1, 1, 1, 1, 1, 1, 1, 1, 1, 1, 1, 1, 1, 1, 1, 1, 1, 1, 1, 1, 1, 1, 1, 1, 1, 1, 1, 1, 1, 1, 1, 1, 1, 1, 1, 1, 1, 1, 1, 1, 1, 1, 1, 1, 1, 1, 1, 1, 1, 1, 1, 1, 1, 1, 1, 1, 1, 1, 1, 1, 1, 1, 1, 1, 1, 1, 1, 1, 1, 1, 1, 1, 1, 1, 1, 1, 1, 1, 1, 1, 1, 1, 1, 1, 1, 1, 1, 1, 1, 1, 1, 1, 1, 1, 1, 1, 1, 1, 1, 1, 1, 1, 1, 1, 1, 1, 1, 1, 1, 1, 1, 1, 1, 1, 1, 1, 1, 1, 1, 1, 1, 1, 1, 1, 1, 1, 1, 1, 1, 1, 1, 1, 1, 1, 1, 1, 1, 1, 1, 1, 1, 1, 1, 1, 1, 1, 1, 1, 1, 1, 1, 1, 1, 1, 1, 1, 1, 1, 1, 1, 1, 1, 1, 1, 1, 1, 1, 1, 1, 1, 1, 1, 1, 1, 1, 1, 1, 1, 1, 1, 1, 1, 1, 1, 1, 1, 1, 1, 1, 1, 1, 1, 1, 1, 1, 1, 1, 1, 1, 1, 1, 1, 1, 1, 1, 1, 1, 1, 1, 1, 1, 1, 1, 1, 1, 1, 1, 1, 1, 1, 1, 1, 1, 1, 1, 1, 1, 1, 1, 1, 1, 1, 1, 1, 1, 1, 1, 1, 1, 1, 1, 1, 1, 1, 1, 1, 1, 1, 1, 1, 1, 1, 1, 1, 1, 1, 1, 1, 1, 1, 1, 1, 1, 1, 1, 1, 1, 1, 1, 1, 1, 1, 1, 1, 1, 1, 1, 1, 1, 1, 1, 1, 1, 1, 1, 1, 1, 1, 1, 1, 1, 1, 1, 1, 1, 1, 1, 1, 1, 1, 1, 1, 1, 1, 1, 1, 1, 1, 1, 1, 1, 1, 1, 1, 1, 1, 1, 1, 1, 1, 1, 1, 1, 1, 1, 1, 1, 1, 1, 1, 1, 1, 1, 1, 1, 1, 1, 1, 1, 1, 1, 1, 1, 1, 1, 1, 1, 1, 1, 1, 1, 1, 1, 1, 1, 1, 1, 1, 1, 1, 1, 1, 1, 1, 1, 1, 1, 1, 1, 1, 1, 1, 1, 1, 1, 1, 1, 1, 1, 1, 1, 1, 1, 1, 1, 1, 1, 1, 1, 1, 1, 1, 1, 1, 1, 1, 1, 1, 1, 1, 1, 1, 1, 1, 1, 1, 1, 1, 1, 1, 1, 1, 1, 1, 1, 1, 1, 1, 1, 1, 1, 1, 1, 1, 1, 1, 1, 1, 1, 1, 1, 1, 1, 1, 1, 1, 1, 1, 1, 1, 1, 1, 1, 1, 1, 1, 1, 1, 1, 1, 1, 1, 1, 1, 1, 1, 1, 1, 1, 1, 1, 1, 1, 1, 1, 1, 1, 1, 1, 1, 1, 1, 1, 1, 1, 1, 1, 1, 1, 1, 1, 1, 1, 1, 1, 1, 1, 1, 1, 1, 1, 1, 1, 1, 1, 1, 1, 1, 1, 1, 1, 1, 1, 1, 1, 1, 1, 1, 1, 1, 1, 1, 1, 1, 1, 1, 1, 1, 1, 1, 1, 1, 1, 1, 1, 1, 1, 1, 1, 1, 1, 1, 1, 1, 1, 1, 1, 1, 1, 1, 1, 1, 1, 1, 1, 1, 1, 1, 1, 1, 1, 1, 1, 1, 1, 1, 1, 1, 1, 1, 1, 1, 1, 1, 1, 1, 1, 1, 1, 1, 1, 1, 1, 1, 1, 1, 1, 1, 1, 1, 1, 1, 1, 1, 1, 1, 1, 1, 1, 1, 1, 1, 1, 1, 1, 1, 1, 1, 1, 1, 1, 1, 1, 1, 1, 1, 1, 1, 1, 1, 1, 1, 1, 1, 1, 1, 1, 1, 1, 1, 1, 1, 1, 1, 1, 1, 1, 1, 1, 1, 1, 1, 1, 1, 1, 1, 1, 1, 1, 1, 1, 1, 1, 1, 1, 1, 1, 1, 1, 1, 1, 1, 1, 1, 1, 1, 1, 1, 1, 1, 1, 1, 1, 1, 1, 1, 1, 1, 1, 1, 1, 1, 1, 1, 1, 1, 1, 1, 1, 1, 1, 1, 1, 1, 1, 1, 1, 1, 1, 1, 1, 1, 1, 1, 1, 1, 1, 1, 1, 1, 1, 1, 1, 1, 1, 1, 1, 1, 1, 1, 1, 1, 1, 1, 1, 1, 1, 1, 1, 1, 1, 1, 1, 1, 1, 1, 1, 1, 1, 1, 1, 1, 1, 1, 1, 1, 1, 1, 1, 1, 1, 1, 1, 1, 1, 1, 1, 1, 1, 1, 1, 1, 1, 1, 1, 1, 1, 1, 1, 1, 1, 1, 1, 1, 1, 1, 1, 1, 1, 1, 1, 1, 1, 1, 1, 1, 1, 1, 1, 1, 1, 1, 1, 1, 1, 1, 1, 1, 1, 1, 1, 1, 1, 1, 1, 1, 1, 1, 1, 1, 1, 1, 1, 1, 1, 1, 1, 1, 1, 1, 1, 1, 1, 1, 1, 1, 1, 1, 1, 1, 1, 1, 1, 1, 1, 1, 1, 1, 1, 1, 1, 1, 1, 1, 1, 1, 1, 1, 1, 1, 1, 1, 1, 1, 1, 1, 1, 1, 1, 1, 1, 1, 1, 1, 1, 1, 1, 1, 1, 1, 1, 1, 1, 1, 1, 1, 1, 1, 1, 1, 1, 1, 1, 1, 1, 1, 1, 1, 1, 1, 1, 1, 1, 1, 1, 1, 1, 1, 1, 1, 1, 1, 1, 1, 1, 1, 1, 1, 1, 1, 1, 1, 1, 1, 1, 1, 1, 1, 1, 1, 1, 1, 1, 1, 1, 1, 1, 1, 1, 1, 1, 1, 1, 1, 1, 1, 1, 1, 1, 1, 1, 1, 1, 1, 1, 1, 1, 1, 1, 1, 1, 1, 1, 1, 1, 1, 1, 1, 1, 1, 1, 1, 1, 1, 1, 1, 1, 1, 1, 1, 1, 1, 1, 1, 1, 1, 1, 1, 1, 1, 1, 1, 1, 1, 1, 1, 1, 1, 1, 1, 1, 1, 1, 1, 1, 1, 1, 1, 1, 1, 1, 1, 1, 1, 1, 1, 1, 1, 1, 1, 1, 1, 1, 1, 1, 1, 1, 1, 1, 1, 1, 1, 1, 1, 1, 1, 1, 1, 1, 1, 1, 1, 1, 1, 1, 1, 1, 1, 1, 1, 1, 1, 1, 1, 1, 1, 1, 1, 1, 1, 1, 1, 1, 1, 1, 1, 1, 1, 1, 1, 1, 1, 1, 1, 1, 1, 1, 1, 1, 1, 1, 1, 1, 1, 1, 1, 1, 1, 1, 1, 1, 1, 1, 1, 1, 1, 1, 1, 1, 1, 1, 1, 1, 1, 1, 1, 1, 1, 1, 1, 1, 1, 1, 1, 1, 1, 1, 1, 1, 1, 1, 1, 1, 1, 1, 1, 1, 1, 1, 1, 1, 1, 1, 1, 1, 1, 1, 1, 1, 1, 1, 1, 1, 1, 1, 1, 1, 1, 1, 1, 1, 1, 1, 1, 1, 1, 1, 1, 1, 1, 1, 1, 1, 1, 1, 1, 1, 1, 1, 1, 1, 1, 1, 1, 1, 1, 1, 1, 1, 1, 1, 1, 1, 1, 1, 1, 1, 1, 1, 1, 1, 1, 1, 1, 1, 1, 1, 1, 1, 1, 1, 1, 1, 1, 1, 1, 1, 1, 1, 1, 1, 1, 1, 1, 1, 1, 1, 1, 1, 1, 1, 1, 1, 1, 1, 1, 1, 1, 1, 1, 1, 1, 1, 1, 1, 1, 1, 1, 1, 1, 1, 1, 1, 1, 1, 1, 1, 1, 1, 1, 1, 1, 1, 1, 1, 1, 1, 1, 1, 1, 1, 1, 1, 1, 1, 1, 1, 1, 1, 1, 1, 1, 1, 1, 1, 1, 1, 1, 1, 1, 1, 1, 1, 1, 1, 1, 1, 1, 1, 1, 1, 1, 1, 1, 1, 1, 1, 1, 1, 1, 1, 1, 1, 1, 1, 1, 1, 1, 1, 1, 1, 1, 1, 1, 1, 1, 1, 1, 1, 1, 1, 1, 1, 1, 1, 1, 1, 1, 1, 1, 1, 1, 1, 1, 1, 1, 1, 1, 1, 1, 1, 1, 1, 1, 1, 1, 1, 1, 1, 1, 1, 1, 1, 1, 1, 1, 1, 1, 1, 1, 1, 1, 1, 1, 1, 1, 1, 1, 1, 1, 1, 1, 1, 1, 1, 1, 1, 1, 1, 1, 1, 1, 1, 1, 1, 1, 1, 1, 1, 1, 1, 1, 1, 1, 1, 1, 1, 1, 1, 1, 1, 1, 1, 1, 1, 1, 1, 1, 1, 1, 1, 1, 1, 1, 1, 1, 1, 1, 1, 1, 1, 1, 1, 1, 1, 1, 1, 1, 1, 1, 1, 1, 1, 1, 1, 1, 1, 1, 1, 1, 1, 1, 1, 1, 1, 1, 1, 1, 1, 1, 1, 1, 1, 1, 1, 1, 1, 1, 1, 1, 1, 1, 1, 1, 1, 1, 1, 1, 1, 1, 1, 1, 1, 1, 1, 1, 1, 1, 1, 1, 1, 1, 1, 1, 1, 1, 1, 1, 1, 1, 1, 1, 1, 1, 1, 1, 1, 1, 1, 1, 1, 1, 1, 1, 1, 1, 1, 1, 1, 1, 1, 1, 1, 1, 1, 1, 1, 1, 1, 1, 1, 1, 1, 1, 1, 1, 1, 1, 1, 1, 1, 1, 1, 1, 1, 1, 1, 1, 1, 1, 1, 1, 1, 1, 1, 1, 1, 1, 1, 1, 1, 1, 1, 1, 1, 1, 1, 1, 1, 1, 1, 1, 1, 1, 1, 1, 1, 1, 1, 1, 1, 1, 1, 1, 1, 1, 1, 1, 1, 1, 1, 1, 1, 1, 1, 1, 1, 1, 1, 1, 1, 1, 1, 1, 1, 1, 1, 1, 1, 1, 1, 1, 1, 1, 1, 1, 1, 1, 1, 1, 1, 1, 1, 1, 1, 1, 1, 1, 1, 1, 1, 1, 1, 1, 1, 1, 1, 1, 1, 1, 1, 1, 1, 1, 1, 1, 1, 1, 1, 1, 1, 1, 1, 1, 1, 1, 1, 1, 1, 1, 1, 1, 1, 1, 1, 1, 1, 1, 1, 1, 1, 1, 1, 1, 1, 1, 1, 1, 1, 1, 1, 1, 1, 1, 1, 1, 1, 1, 1, 1, 1, 1, 1, 1, 1, 1, 1, 1, 1, 1, 1, 1, 1, 1, 1, 1, 1, 1, 1, 1, 1, 1, 1, 1, 1, 1, 1, 1, 1, 1, 1, 1, 1, 1, 1, 1, 1, 1, 1, 1, 1, 1, 1, 1, 1, 1, 1, 1, 1, 1, 1, 1, 1, 1, 1, 1, 1, 1, 1, 1, 1, 1, 1, 1, 1, 1, 1, 1, 1, 1, 1, 1, 1, 1, 1, 1, 1, 1, 1, 1, 1, 1, 1, 1, 1, 1, 1, 1, 1, 1, 1, 1, 1, 1, 1, 1, 1, 1, 1, 1, 1, 1, 1, 1, 1, 1, 1, 1, 1, 1, 1, 1, 1, 1, 1, 1, 1, 1, 1, 1, 1, 1, 1, 1, 1, 1, 1, 1, 1, 1, 1, 1, 1, 1, 1, 1, 1, 1, 1, 1, 1, 1, 1, 1, 1, 1, 1, 1, 1, 1, 1, 1, 1, 1, 1, 1, 1, 1, 1, 1, 1, 1, 1, 1, 1, 1, 1, 1, 1, 1, 1, 1, 1, 1, 1, 1, 1, 1, 1, 1, 1, 1, 1, 1, 1, 1, 1, 1, 1, 1, 1, 1, 1, 1, 1, 1, 1, 1, 1, 1, 1, 1, 1, 1, 1, 1, 1, 1, 1, 1, 1, 1, 1, 1, 1, 1, 1, 1, 1, 1, 1, 1, 1, 1, 1, 1, 1, 1, 1, 1, 1, 1, 1, 1, 1, 1, 1, 1, 1, 1, 1, 1, 1, 1, 1, 1, 1, 1, 1, 1, 1, 1, 1, 1, 1, 1, 1, 1, 1, 1, 1, 1, 1, 1, 1, 1, 1, 1, 1, 1, 1, 1, 1, 1, 1, 1, 1, 1, 1, 1, 1, 1, 1, 1, 1, 1, 1, 1, 1, 1, 1, 1, 1, 1, 1, 1, 1, 1, 1, 1, 1, 1, 1, 1, 1, 1, 1, 1, 1, 1, 1, 1, 1, 1, 1, 1, 1, 1, 1, 1, 1, 1, 1, 1, 1, 1, 1, 1, 1, 1, 1, 1, 1, 1, 1, 1, 1, 1, 1, 1, 1, 1, 1, 1, 1, 1, 1, 1, 1, 1, 1, 1, 1, 1, 1, 1, 1, 1, 1, 1, 1, 1, 1, 1, 1, 1, 1, 1, 1, 1, 1, 1, 1, 1, 1, 1, 1, 1, 1, 1, 1, 1, 1, 1, 1, 1, 1, 1, 1, 1, 1, 1, 1, 1, 1, 1, 1, 1, 1, 1, 1, 1, 1, 1, 1, 1, 1, 1, 1, 1, 1, 1, 1, 1, 1, 1, 1, 1, 1, 1, 1, 1, 1, 1, 1, 1, 1, 1, 1, 1, 1, 1, 1, 1, 1, 1, 1, 1, 1, 1, 1, 1, 1, 1, 1, 1, 1, 1, 1, 1, 1, 1, 1, 1, 1, 1, 1, 1, 1, 1, 1, 1, 1, 1, 1, 1, 1, 1, 1, 1, 1, 1, 1, 1, 1, 1, 1, 1, 1, 1, 1, 1, 1, 1, 1, 1, 1, 1, 1, 1, 1, 1, 1, 1, 1, 1, 1, 1, 1, 1, 1, 1, 1, 1, 1, 1, 1, 1, 1, 1, 1, 1, 1, 1, 1, 1, 1, 1, 1, 1, 1, 1, 1, 1, 1, 1, 1, 1, 1, 1, 1, 1, 1, 1, 1, 1, 1, 1, 1, 1, 1, 1, 1, 1, 1, 1, 1, 1, 1, 1, 1, 1, 1, 1, 1, 1, 1, 1, 1, 1, 1, 1, 1, 1, 1, 1, 1, 1, 1, 1, 1, 1, 1, 1, 1, 1, 1, 1, 1, 1, 1, 1, 1, 1, 1, 1, 1, 1, 1, 1, 1, 1, 1, 1, 1, 1, 1, 1, 1, 1, 1, 1, 1, 1, 1, 1, 1, 1, 1, 1, 1, 1, 1, 1, 1, 1, 1, 1, 1, 1, 1, 1, 1, 1, 1, 1, 1, 1, 1, 1, 1, 1, 1, 1, 1, 1, 1, 1, 1, 1, 1, 1, 1, 1, 1, 1, 1, 1, 1, 1, 1, 1, 1, 1, 1, 1, 1, 1, 1, 1, 1, 1, 1, 1, 1, 1, 1, 1, 1, 1, 1, 1, 1, 1, 1, 1, 1, 1, 1, 1, 1, 1, 1, 1, 1, 1, 1, 1, 1, 1, 1, 1, 1, 1, 1, 1, 1, 1, 1, 1, 1, 1, 1, 1, 1, 1, 1, 1, 1, 1, 1, 1, 1, 1, 1, 1, 1, 1, 1, 1, 1, 1, 1, 1, 1, 1, 1, 1, 1, 1, 1, 1, 1, 1, 1, 1, 1, 1, 1, 1, 1, 1, 1, 1, 1, 1, 1, 1, 1, 1, 1, 1, 1, 1, 1, 1, 1, 1, 1, 1, 1, 1, 1, 1, 1, 1, 1, 1, 1, 1, 1, 1, 1, 1, 1, 1, 1, 1, 1, 1, 1, 1, 1, 1, 1, 1, 1, 1, 1, 1, 1, 1, 1, 1, 1, 1, 1, 1, 1, 1, 1, 1, 1, 1, 1, 1, 1, 1, 1, 1, 1, 1, 1, 1, 1, 1, 1, 1, 1, 1, 1, 1, 1, 1, 1, 1, 1, 1, 1, 1, 1, 1, 1, 1, 1, 1, 1, 1, 1, 1, 1, 1, 1, 1, 1, 1, 1, 1, 1, 1, 1, 1, 1, 1, 1, 1, 1, 1, 1, 1, 1, 1, 1, 1, 1, 1, 1, 1, 1, 1, 1, 1, 1, 1, 1, 1, 1, 1, 1, 1, 1, 1, 1, 1, 1, 1, 1, 1, 1, 1, 1, 1, 1, 1, 1, 1, 1, 1, 1, 1, 1, 1, 1, 1, 1, 1, 1, 1, 1, 1, 1, 1, 1, 1, 1, 1, 1, 1, 1, 1, 1, 1, 1, 1, 1, 1, 1, 1, 1, 1, 1, 1, 1, 1, 1, 1, 1, 1, 1, 1, 1, 1, 1, 1, 1, 1, 1, 1, 1, 1, 1, 1, 1, 1, 1, 1, 1, 1, 1, 1, 1, 1, 1, 1, 1, 1, 1, 1, 1, 1, 1, 1, 1, 1, 1, 1, 1, 1, 1, 1, 1, 1, 1, 1, 1, 1, 1, 1, 1, 1, 1, 1, 1, 1, 1, 1, 1, 1, 1, 1, 1, 1, 1, 1, 1, 1, 1, 1, 1, 1, 1, 1, 1, 1, 1, 1, 1, 1, 1, 1, 1, 1, 1, 1, 1, 1, 1, 1, 1, 1, 1, 1, 1, 1, 1, 1, 1, 1, 1, 1, 1, 1, 1, 1, 1, 1, 1, 1, 1, 1, 1, 1, 1, 1, 1, 1, 1, 1, 1, 1, 1, 1, 1, 1, 1, 1, 1, 1, 1, 1, 1, 1, 1, 1, 1, 1, 1, 1, 1, 1, 1, 1, 1, 1, 1, 1, 1, 1, 1, 1, 1, 1, 1, 1, 1, 1, 1, 1, 1, 1, 1, 1, 1, 1, 1, 1, 1, 1, 1, 1, 1, 1, 1, 1, 1, 1, 1, 1, 1, 1, 1, 1, 1, 1, 1, 1, 1, 1, 1, 1, 1, 1, 1, 1, 1, 1, 1, 1, 1, 1, 1, 1, 1, 1, 1, 1, 1, 1, 1, 1, 1, 1, 1, 1, 1, 1, 1, 1, 1, 1, 1, 1, 1, 1, 1, 1, 1, 1, 1, 1, 1, 1, 1, 1, 1, 1, 1, 1, 1, 1, 1, 1, 1, 1, 1, 1, 1, 1, 1, 1, 1, 1, 1, 1, 1, 1, 1, 1, 1, 1, 1, 1, 1, 1, 1, 1, 1, 1, 1, 1, 1, 1, 1, 1, 1, 1, 1, 1, 1, 1, 1, 1, 1, 1, 1, 1, 1, 1, 1, 1, 1, 1, 1, 1, 1, 1, 1, 1, 1, 1, 1, 1, 1, 1, 1, 1, 1, 1, 1, 1, 1, 1, 1, 1, 1, 1, 1, 1, 1, 1, 1, 1, 1, 1, 1, 1, 1, 1, 1, 1, 1, 1, 1, 1, 1, 1, 1, 1, 1, 1, 1, 1, 1, 1, 1, 1, 1, 1, 1, 1, 1, 1, 1, 1, 1, 1, 1, 1, 1, 1, 1, 1, 1, 1, 1, 1, 1, 1, 1, 1, 1, 1, 1, 1, 1, 1, 1, 1, 1, 1, 1, 1, 1, 1, 1, 1, 1, 1, 1, 1, 1, 1, 1, 1, 1, 1, 1, 1, 1, 1, 1, 1, 1, 1, 1, 1, 1, 1, 1, 1, 1, 1, 1, 1, 1, 1, 1, 1, 1, 1, 1, 1, 1, 1, 1, 1, 1, 1, 1, 1, 1, 1, 1, 1, 1, 1, 1, 1, 1, 1, 1, 1, 1, 1, 1, 1, 1, 1, 1, 1, 1, 1, 1, 1, 1, 1, 1, 1, 1, 1, 1, 1, 1, 1, 1, 1, 1, 1, 1, 1, 1, 1, 1, 1, 1, 1, 1, 1, 1, 1, 1, 1, 1, 1, 1, 1, 1, 1, 1, 1, 1, 1, 1, 1, 1, 1, 1, 1, 1, 1, 1, 1, 1, 1, 1, 1, 1, 1, 1, 1, 1, 1, 1, 1, 1, 1, 1, 1, 1, 1, 1, 1, 1, 1, 1, 1, 1, 1, 1, 1, 1, 1, 1, 1, 1, 1, 1, 1, 1, 1, 1, 1, 1, 1, 1, 1, 1, 1, 1, 1, 1, 1, 1, 1, 1, 1, 1, 1, 1, 1, 1, 1, 1, 1, 1, 1, 1, 1, 1, 1, 1, 1, 1, 1, 1, 1, 1, 1, 1, 1, 1, 1, 1, 1, 1, 1, 1, 1, 1, 1, 1, 1, 1, 1, 1, 1, 1, 1, 1, 1, 1, 1, 1, 1, 1, 1, 1, 1, 1, 1, 1, 1, 1, 1, 1, 1, 1, 1, 1, 1, 1, 1, 1, 1, 1, 1, 1, 1, 1, 1, 1, 1, 1, 1, 1, 1, 1, 1, 1, 1, 1, 1, 1, 1, 1, 1, 1, 1, 1, 1, 1, 1, 1, 1, 1, 1, 1, 1, 1, 1, 1, 1, 1, 1, 1, 1, 1, 1, 1, 1, 1, 1, 1, 1, 1, 1, 1, 1, 1, 1, 1, 1, 1, 1, 1, 1, 1, 1, 1, 1, 1, 1, 1, 1, 1, 1, 1, 1, 1, 1, 1, 1, 1, 1, 1, 1, 1, 1, 1, 1, 1, 1, 1, 1, 1, 1, 1, 1, 1, 1, 1, 1, 1, 1, 1, 1, 1, 1, 1, 1, 1, 1, 1, 1, 1, 1, 1, 1, 1, 1, 1, 1, 1, 1, 1, 1, 1, 1, 1, 1, 1, 1, 1, 1, 1, 1, 1, 1, 1, 1, 1, 1, 1, 1, 1, 1, 1, 1, 1, 1, 1, 1, 1, 1, 1, 1, 1, 1, 1, 1, 1, 1, 1, 1, 1, 1, 1, 1, 1, 1, 1, 1, 1, 1, 1, 1, 1, 1, 1, 1, 1, 1, 1, 1, 1, 1, 1, 1, 1, 1, 1, 1, 1, 1, 1, 1, 1, 1, 1, 1, 1, 1, 1, 1, 1, 1, 1, 1, 1, 1, 1, 1, 1, 1, 1, 1, 1, 1, 1, 1, 1, 1, 1, 1, 1, 1, 1, 1, 1, 1, 1, 1, 1, 1, 1, 1, 1, 1, 1, 1, 1, 1, 1, 1, 1, 1, 1, 1, 1, 1, 1, 1, 1, 1, 1, 1, 1, 1, 1, 1, 1, 1, 1, 1, 1, 1, 1, 1, 1, 1, 1, 1, 1, 1, 1, 1, 1, 1, 1, 1, 1, 1, 1, 1, 1, 1, 1, 1, 1, 1, 1, 1, 1, 1, 1, 1, 1, 1, 1, 1, 1, 1, 1, 1, 1, 1, 1, 1, 1, 1, 1, 1, 1, 1, 1, 1, 1, 1, 1, 1, 1, 1, 1, 1, 1, 1, 1, 1, 1, 1, 1, 1, 1, 1, 1, 1, 1, 1, 1, 1, 1, 1, 1, 1, 1, 1, 1, 1, 1, 1, 1, 1, 1, 1, 1, 1, 1, 1, 1, 1, 1, 1, 1, 1, 1, 1, 1, 1, 1, 1, 1, 1, 1, 1, 1, 1, 1, 1, 1, 1, 1, 1, 1, 1, 1, 1, 1, 1, 1, 1, 1, 1, 1, 1, 1, 1, 1, 1, 1, 1, 1, 1, 1, 1, 1, 1, 1, 1, 1, 1, 1, 1, 1, 1, 1, 1, 1, 1, 1, 1, 1, 1, 1, 1, 1, 1, 1, 1, 1, 1, 1, 1, 1, 1, 1, 1, 1, 1, 1, 1, 1, 1, 1, 1, 1, 1, 1, 1, 1, 1, 1, 1, 1, 1, 1, 1, 1, 1, 1, 1, 1, 1, 1, 1, 1, 1, 1, 1, 1, 1, 1, 1, 1, 1, 1, 1, 1, 1, 1, 1, 1, 1, 1, 1, 1, 1, 1, 1, 1, 1, 1, 1, 1, 1, 1, 1, 1, 1, 1, 1, 1, 1, 1, 1, 1, 1, 1, 1, 1, 1, 1, 1, 1, 1, 1, 1, 1, 1, 1, 1, 1, 1, 1, 1, 1, 1, 1, 1, 1, 1, 1, 1, 1, 1, 1, 1, 1, 1, 1, 1, 1, 1, 1, 1, 1, 1, 1, 1, 1, 1, 1, 1, 1, 1, 1, 1, 1, 1, 1, 1, 1, 1, 1, 1, 1, 1, 1, 1, 1, 1, 1, 1, 1, 1, 1, 1, 1, 1, 1, 1, 1, 1, 1, 1, 1, 1, 1, 1, 1, 1, 1, 1, 1, 1, 1, 1, 1, 1, 1, 1, 1, 1, 1, 1, 1, 1, 1, 1, 1, 1, 1, 1, 1, 1, 1, 1, 1, 1, 1, 1, 1, 1, 1, 1, 1, 1, 1, 1, 1, 1, 1, 1, 1, 1, 1, 1, 1, 1, 1, 1, 1, 1, 1, 1, 1, 1, 1, 1, 1, 1, 1, 1, 1, 1, 1, 1, 1, 1, 1, 1, 1, 1, 1, 1, 1, 1, 1, 1, 1, 1, 1, 1, 1, 1, 1, 1, 1, 1, 1, 1, 1, 1, 1, 1, 1, 1, 1, 1, 1, 1, 1, 1, 1, 1, 1, 1, 1, 1, 1, 1, 1, 1, 1, 1, 1, 1, 1, 1, 1, 1, 1, 1, 1, 1, 1, 1, 1, 1, 1, 1, 1, 1, 1, 1, 1, 1, 1, 1, 1, 1, 1, 1, 1, 1, 1, 1, 1, 1, 1, 1, 1, 1, 1, 1, 1, 1, 1, 1, 1, 1, 1, 1, 1, 1, 1, 1, 1, 1, 1, 1, 1, 1, 1, 1, 1, 1, 1, 1, 1, 1, 1, 1, 1, 1, 1, 1, 1, 1, 1, 1, 1, 1, 1, 1, 1, 1, 1, 1, 1, 1, 1, 1, 1, 1, 1, 1, 1, 1, 1, 1, 1, 1, 1, 1, 1, 1, 1, 1, 1, 1, 1, 1, 1, 1, 1, 1, 1, 1, 1, 1, 1, 1, 1, 1, 1, 1, 1, 1, 1, 1, 1, 1, 1, 1, 1, 1, 1, 1, 1, 1, 1, 1, 1, 1, 1, 1, 1, 1, 1, 1, 1, 1, 1, 1, 1, 1, 1, 1, 1, 1, 1, 1, 1, 1, 1, 1, 1, 1, 1, 1, 1, 1, 1, 1, 1, 1, 1, 1, 1, 1, 1, 1, 1, 1, 1, 1, 1, 1, 1, 1, 1, 1, 1, 1, 1, 1, 1, 1, 1, 1, 1, 1, 1, 1, 1, 1, 1, 1, 1, 1, 1, 1, 1, 1, 1, 1, 1, 1, 1, 1, 1, 1, 1, 1, 1, 1, 1, 1, 1, 1, 1, 1, 1, 1, 1, 1, 1, 1, 1, 1, 1, 1, 1, 1, 1, 1, 1, 1, 1, 1, 1, 1, 1, 1, 1, 1, 1, 1, 1, 1, 1, 1, 1, 1, 1, 1, 1, 1, 1, 1, 1, 1, 1, 1, 1, 1, 1, 1, 1, 1, 1, 1, 1, 1, 1, 1, 1, 1, 1, 1, 1, 1, 1, 1, 1, 1, 1, 1, 1, 1, 1, 1, 1, 1, 1, 1, 1, 1, 1, 1, 1, 1, 1, 1, 1, 1, 1, 1, 1, 1, 1, 1, 1, 1, 1, 1, 1, 1, 1, 1, 1, 1, 1, 1, 1, 1, 1, 1, 1, 1, 1, 1, 1, 1, 1, 1, 1, 1, 1, 1, 1, 1, 1, 1, 1, 1, 1, 1, 1, 1, 1, 1, 1, 1, 1, 1, 1, 1, 1, 1, 1, 1, 1, 1, 1, 1, 1, 1, 1, 1, 1, 1, 1, 1, 1, 1, 1, 1, 1, 1, 1, 1, 1, 1, 1, 1, 1, 1, 1, 1, 1, 1, 1, 1, 1, 1, 1, 1, 1, 1, 1, 1, 1, 1, 1, 1, 1, 1, 1, 1, 1, 1, 1, 1, 1, 1, 1, 1, 1, 1, 1, 1, 1, 1, 1, 1, 1, 1, 1, 1, 1, 1, 1, 1, 1, 1, 1, 1, 1, 1, 1, 1, 1, 1, 1, 1, 1, 1, 1, 1, 1, 1, 1, 1, 1, 1, 1, 1, 1, 1, 1, 1, 1, 1, 1, 1, 1, 1, 1, 1, 1, 1, 1, 1, 1, 1, 1, 1, 1, 1, 1, 1, 1, 1, 1, 1, 1, 1, 1, 1, 1, 1, 1, 1, 1, 1, 1, 1, 1, 1, 1, 1, 1, 1, 1, 1, 1, 1, 1, 1, 1, 1, 1, 1, 1, 1, 1, 1, 1, 1, 1, 1, 1, 1, 1, 1, 1, 1, 1, 1, 1, 1, 1, 1, 1, 1, 1, 1, 1, 1, 1, 1, 1, 1, 1, 1, 1, 1, 1, 1, 1, 1, 1, 1, 1, 1, 1, 1, 1, 1, 1, 1, 1, 1, 1, 1, 1, 1, 1, 1, 1, 1, 1, 1, 1, 1, 1, 1, 1, 1, 1, 1, 1, 1, 1, 1, 1, 1, 1, 1, 1, 1, 1, 1, 1, 1, 1, 1, 1, 1, 1, 1, 1, 1, 1, 1, 1, 1, 1, 1, 1, 1, 1, 1, 1, 1, 1, 1, 1, 1, 1, 1, 1, 1, 1, 1, 1, 1, 1, 1, 1, 1, 1, 1, 1, 1, 1, 1, 1, 1, 1, 1, 1, 1, 1, 1, 1, 1, 1, 1, 1, 1, 1, 1, 1, 1, 1, 1, 1, 1, 1, 1, 1, 1, 1, 1, 1, 1, 1, 1, 1, 1, 1, 1, 1, 1, 1, 1, 1, 1, 1, 1, 1, 1, 1, 1, 1, 1, 1, 1, 1, 1, 1, 1, 1, 1, 1, 1, 1, 1, 1, 1, 1, 1, 1, 1, 1, 1, 1, 1, 1, 1, 1, 1, 1, 1, 1, 1, 1, 1, 1, 1, 1, 1, 1, 1, 1, 1, 1, 1, 1, 1, 1, 1, 1, 1, 1, 1, 1, 1, 1, 1, 1, 1, 1, 1, 1, 1, 1, 1, 1, 1, 1, 1, 1, 1, 1, 1, 1, 1, 1, 1, 1, 1, 1, 1, 1, 1, 1, 1, 1, 1, 1, 1, 1, 1, 1, 1, 1, 1, 1, 1, 1, 1, 1, 1, 1, 1, 1, 1, 1, 1, 1, 1, 1, 1, 1, 1, 1, 1, 1, 1, 1, 1, 1, 1, 1, 1, 1, 1, 1, 1, 1, 1, 1, 1, 1, 1, 1, 1, 1, 1, 1, 1, 1, 1, 1, 1, 1, 1, 1, 1, 1, 1, 1, 1, 1, 1, 1, 1, 1, 1, 1, 1, 1, 1, 1, 1, 1, 1, 1, 1, 1, 1, 1, 1, 1, 1, 1, 1, 1, 1, 1, 1, 1, 1, 1, 1, 1, 1, 1, 1, 1, 1, 1, 1, 1, 1, 1, 1, 1, 1, 1, 1, 1, 1, 1, 1, 1, 1, 1, 1, 1, 1, 1, 1, 1, 1, 1, 1, 1, 1, 1, 1, 1, 1, 1, 1, 1, 1, 1, 1, 1, 1, 1, 1, 1, 1, 1, 1, 1, 1, 1, 1, 1, 1, 1, 1, 1, 1, 1, 1, 1, 1, 1, 1, 1, 1, 1, 1, 1, 1, 1, 1, 1, 1, 1, 1, 1, 1, 1, 1, 1, 1, 1, 1, 1, 1, 1, 1, 1, 1, 1, 1, 1, 1, 1, 1, 1, 1, 1, 1, 1, 1, 1, 1, 1, 1, 1, 1, 1, 1, 1, 1, 1, 1, 1, 1, 1, 1, 1, 1, 1, 1, 1, 1, 1, 1, 1, 1, 1, 1, 1, 1, 1, 1, 1, 1, 1, 1, 1, 1, 1, 1, 1, 1, 1, 1, 1, 1, 1, 1, 1, 1, 1, 1, 1, 1, 1, 1, 1, 1, 1, 1, 1, 1, 1, 1, 1, 1, 1, 1, 1, 1, 1, 1, 1, 1, 1, 1, 1, 1, 1, 1, 1, 1, 1, 1, 1, 1, 1, 1, 1, 1, 1, 1, 1, 1, 1, 1, 1, 1, 1, 1, 1, 1, 1, 1, 1, 1, 1, 1, 1, 1, 1, 1, 1, 1, 1, 1, 1, 1, 1, 1, 1, 1, 1, 1, 1, 1, 1, 1, 1, 1, 1, 1, 1, 1, 1, 1, 1, 1, 1, 1, 1, 1, 1, 1, 1, 1, 1, 1, 1, 1, 1, 1, 1, 1, 1, 1, 1, 1, 1, 1, 1, 1, 1, 1, 1, 1, 1, 1, 1, 1, 1, 1, 1, 1, 1, 1, 1, 1, 1, 1, 1, 1, 1, 1, 1, 1, 1, 1, 1, 1, 1, 1, 1, 1, 1, 1, 1, 1, 1, 1, 1, 1, 1, 1, 1, 1, 1, 1, 1, 1, 1, 1, 1, 1, 1, 1, 1, 1, 1, 1, 1, 1, 1, 1, 1, 1, 1, 1, 1, 1, 1, 1, 1, 1, 1, 1, 1, 1, 1, 1, 1, 1, 1, 1, 1, 1, 1, 1, 1, 1, 1, 1, 1, 1, 1, 1, 1, 1, 1, 1, 1, 1, 1, 1, 1, 1, 1, 1, 1, 1, 1, 1, 1, 1, 1, 1, 1, 1, 1, 1, 1, 1, 1, 1, 1, 1, 1, 1, 1, 1, 1, 1, 1, 1, 1, 1, 1, 1, 1, 1, 1, 1, 1, 1, 1, 1, 1, 1, 1, 1, 1, 1, 1, 1, 1, 1, 1, 1, 1, 1, 1, 1, 1, 1, 1, 1, 1, 1, 1, 1, 1, 1, 1, 1, 1, 1, 1, 1, 1, 1, 1, 1, 1, 1, 1, 1, 1, 1, 1, 1, 1, 1, 1, 1, 1, 1, 1, 1, 1, 1, 1, 1, 1, 1, 1, 1, 1, 1, 1, 1, 1, 1, 1, 1, 1, 1, 1, 1, 1, 1, 1, 1, 1, 1, 1, 1, 1, 1, 1, 1, 1, 1, 1, 1, 1, 1, 1, 1, 1, 1, 1, 1, 1, 1, 1, 1, 1, 1, 1, 1, 1, 1, 1, 1, 1, 1, 1, 1, 1, 1, 1, 1, 1, 1, 1, 1, 1, 1, 1, 1, 1, 1, 1, 1, 1, 1, 1, 1, 1, 1, 1, 1, 1, 1, 1, 1, 1, 1, 1, 1, 1, 1, 1, 1, 1, 1, 1, 1, 1, 1, 1, 1, 1, 1, 1, 1, 1, 1, 1, 1, 1, 1, 1, 1, 1, 1, 1, 1, 1, 1, 1, 1, 1, 1, 1, 1, 1, 1, 1, 1, 1, 1, 1, 1, 1, 1, 1, 1, 1, 1, 1, 1, 1, 1, 1, 1, 1, 1, 1, 1, 1, 1, 1, 1, 1, 1, 1, 1, 1, 1, 1, 1, 1, 1, 1, 1, 1, 1, 1, 1, 1, 1, 1, 1, 1, 1, 1, 1, 1, 1, 1, 1, 1, 1, 1, 1, 1, 1, 1, 1, 1, 1, 1, 1, 1, 1, 1, 1, 1, 1, 1, 1, 1, 1, 1, 1, 1, 1, 1, 1, 1, 1, 1, 1, 1, 1, 1, 1, 1, 1, 1, 1, 1, 1, 1, 1, 1, 1, 1, 1, 1, 1, 1, 1, 1, 1, 1, 1, 1, 1, 1, 1, 1, 1, 1, 1, 1, 1, 1, 1, 1, 1, 1, 1, 1, 1, 1, 1, 1, 1, 1, 1, 1, 1, 1, 1, 1, 1, 1, 1, 1, 1, 1, 1, 1, 1, 1, 1, 1, 1, 1, 1, 1, 1, 1, 1, 1, 1, 1, 1, 1, 1, 1, 1, 1, 1, 1, 1, 1, 1, 1, 1, 1, 1, 1, 1, 1, 1, 1, 1, 1, 1, 1, 1, 1, 1, 1, 1, 1, 1, 1, 1, 1, 1, 1, 1, 1, 1, 1, 1, 1, 1, 1, 1, 1, 1, 1, 1, 1, 1, 1, 1, 1, 1, 1, 1, 1, 1, 1, 1, 1, 1, 1, 1, 1, 1, 1, 1, 1, 1, 1, 1, 1, 1, 1, 1, 1, 1, 1, 1, 1, 1, 1, 1, 1, 1, 1, 1, 1, 1, 1, 1, 1, 1, 1, 1, 1, 1, 1, 1, 1, 1, 1, 1, 1, 1, 1, 1, 1, 1, 1, 1, 1, 1, 1, 1, 1, 1, 1, 1, 1, 1, 1, 1, 1, 1, 1, 1, 1, 1, 1, 1, 1, 1, 1, 1, 1, 1, 1, 1, 1, 1, 1, 1, 1, 1, 1, 1, 1, 1, 1, 1, 1, 1, 1, 1, 1, 1, 1, 1, 1, 1, 1, 1, 1, 1, 1, 1, 1, 1, 1, 1, 1, 1, 1, 1, 1, 1, 1, 1, 1, 1, 1, 1, 1, 1, 1, 1, 1, 1, 1, 1, 1, 1, 1, 1, 1, 1, 1, 1, 1, 1, 1, 1, 1, 1, 1, 1, 1, 1, 1, 1, 1, 1, 1, 1, 1, 1, 1, 1, 1, 1, 1, 1, 1, 1, 1, 1, 1, 1, 1, 1, 1, 1, 1, 1, 1, 1, 1, 1, 1, 1, 1, 1, 1, 1, 1, 1, 1, 1, 1, 1, 1, 1, 1, 1, 1, 1, 1, 1, 1, 1, 1, 1, 1, 1, 1, 1, 1, 1, 1, 1, 1, 1, 1, 1, 1, 1, 1, 1, 1, 1, 1, 1, 1, 1, 1, 1, 1, 1, 1, 1, 1, 1, 1, 1, 1, 1, 1, 1, 1, 1, 1, 1, 1, 1, 1, 1, 1, 1, 1, 1, 1, 1, 1, 1, 1, 1, 1, 1, 1, 1, 1, 1, 1, 1, 1, 1, 1, 1, 1, 1, 1, 1, 1, 1, 1, 1, 1, 1, 1, 1, 1, 1, 1, 1, 1, 1, 1, 1, 1, 1, 1, 1, 1, 1, 1, 1, 1, 1, 1, 1, 1, 1, 1, 1, 1, 1, 1, 1, 1, 1, 1, 1, 1, 1, 1, 1, 1, 1, 1, 1, 1, 1, 1, 1, 1, 1, 1, 1, 1, 1, 1, 1, 1, 1, 1, 1, 1, 1, 1, 1, 1, 1, 1, 1, 1, 1, 1, 1, 1, 1, 1, 1, 1, 1, 1, 1, 1, 1, 1, 1, 1, 1, 1, 1, 1, 1, 1, 1, 1, 1, 1, 1, 1, 1, 1, 1, 1, 1, 1, 1, 1, 1, 1, 1, 1, 1, 1, 1, 1, 1, 1, 1, 1, 1, 1, 1, 1, 1, 1, 1, 1, 1, 1, 1, 1, 1, 1, 1, 1, 1, 1, 1, 1, 1, 1, 1, 1, 1, 1, 1, 1, 1, 1, 1, 1, 1, 1, 1, 1, 1, 1, 1, 1, 1, 1, 1, 1, 1, 1, 1, 1, 1, 1, 1, 1, 1, 1, 1, 1, 1, 1, 1, 1, 1, 1, 1, 1, 1, 1, 1, 1, 1, 1, 1, 1, 1, 1, 1, 1, 1, 1, 1, 1, 1, 1, 1, 1, 1, 1, 1, 1, 1, 1, 1, 1, 1, 1, 1, 1, 1, 1, 1, 1, 1, 1, 1, 1, 1, 1, 1, 1, 1, 1, 1, 1, 1, 1, 1, 1, 1, 1, 1, 1, 1, 1, 1, 1, 1, 1, 1, 1, 1, 1, 1, 1, 1, 1, 1, 1, 1, 1, 1, 1, 1, 1, 1, 1, 1, 1, 1, 1, 1, 1, 1, 1, 1, 1, 1, 1, 1, 1, 1, 1, 1, 1, 1, 1, 1, 1, 1, 1, 1, 1, 1, 1, 1, 1, 1, 1, 1, 1, 1, 1, 1, 1, 1, 1, 1, 1, 1, 1, 1, 1, 1, 1, 1, 1, 1, 1, 1, 1, 1, 1, 1, 1, 1, 1, 1, 1, 1, 1, 1, 1, 1, 1, 1, 1, 1, 1, 1, 1, 1, 1, 1, 1, 1, 1, 1, 1, 1, 1, 1, 1, 1, 1, 1, 1, 1, 1, 1, 1, 1, 1, 1, 1, 1, 1, 1, 1, 1, 1, 1, 1, 1, 1, 1, 1, 1, 1, 1, 1, 1, 1, 1, 1, 1, 1, 1, 1, 1, 1, 1, 1, 1, 1, 1, 1, 1, 1, 1, 1, 1, 1, 1, 1, 1, 1, 1, 1, 1, 1, 1, 1, 1, 1, 1, 1, 1, 1, 1, 1, 1, 1, 1, 1, 1, 1, 1, 1, 1, 1, 1, 1, 1, 1, 1, 1, 1, 1, 1, 1, 1, 1, 1, 1, 1, 1, 1, 1, 1, 1, 1, 1, 1, 1, 1, 1, 1, 1, 1, 1, 1, 1, 1, 1, 1, 1, 1, 1, 1, 1, 1, 1, 1, 1, 1, 1, 1, 1, 1, 1, 1, 1, 1, 1, 1, 1, 1, 1, 1, 1, 1, 1, 1, 1, 1, 1, 1, 1, 1, 1, 1, 1, 1, 1, 1, 1, 1, 1, 1, 1, 1, 1, 1, 1, 1, 1, 1, 1, 1, 1, 1, 1, 1, 1, 1, 1, 1, 1, 1, 1, 1, 1, 1, 1, 1, 1, 1, 1, 1, 1, 1, 1, 1, 1, 1, 1, 1, 1, 1, 1, 1, 1, 1, 1, 1, 1, 1, 1, 1, 1, 1, 1, 1, 1, 1, 1, 1, 1, 1, 1, 1, 1, 1, 1, 1, 1, 1, 1, 1, 1, 1, 1, 1, 1, 1, 1, 1, 1, 1, 1, 1, 1, 1, 1, 1, 1, 1, 1, 1, 1, 1, 1, 1, 1, 1, 1, 1, 1, 1, 1, 1, 1, 1, 1, 1, 1, 1, 1, 1, 1, 1, 1, 1, 1, 1, 1, 1, 1, 1, 1, 1, 1, 1, 1, 1, 1, 1, 1, 1, 1, 1, 1, 1, 1, 1, 1, 1, 1, 1, 1, 1, 1, 1, 1, 1, 1, 1, 1, 1, 1, 1, 1, 1, 1, 1, 1, 1, 1, 1, 1, 1, 1, 1, 1, 1, 1, 1, 1, 1, 1, 1, 1, 1, 1, 1, 1, 1, 1, 1, 1, 1, 1, 1, 1, 1, 1, 1, 1, 1, 1, 1, 1, 1, 1, 1, 1, 1, 1, 1, 1, 1, 1, 1, 1, 1, 1, 1, 1, 1, 1, 1, 1, 1, 1, 1, 1, 1, 1, 1, 1, 1, 1, 1, 1, 1, 1, 1, 1, 1, 1, 1, 1, 1, 1, 1, 1, 1, 1, 1, 1, 1, 1, 1, 1, 1, 1, 1, 1, 1, 1, 1, 1, 1, 1, 1, 1, 1, 1, 1, 1, 1, 1, 1, 1, 1, 1, 1, 1, 1, 1, 1, 1, 1, 1, 1, 1, 1, 1, 1, 1, 1, 1, 1, 1, 1, 1, 1, 1, 1, 1, 1, 1, 1, 1, 1, 1, 1, 1, 1, 1, 1, 1, 1, 1, 1, 1, 1, 1, 1, 1, 1, 1, 1, 1, 1, 1, 1, 1, 1, 1, 1, 1, 1, 1, 1, 1, 1, 1, 1, 1, 1, 1, 1, 1, 1, 1, 1, 1, 1, 1, 1, 1, 1, 1, 1, 1, 1, 1, 1, 1, 1, 1, 1, 1, 1, 1, 1, 1, 1, 1, 1, 1, 1, 1, 1, 1, 1, 1, 1, 1, 1, 1, 1, 1, 1, 1, 1, 1, 1, 1, 1, 1, 1, 1, 1, 1, 1, 1, 1, 1, 1, 1, 1, 1, 1, 1, 1, 1, 1, 1, 1, 1, 1, 1, 1, 1, 1, 1, 1, 1, 1, 1, 1, 1, 1, 1, 1, 1, 1, 1, 1, 1, 1, 1, 1, 1, 1, 1, 1, 1, 1, 1, 1, 1, 1, 1, 1, 1, 1, 1, 1, 1, 1, 1, 1, 1, 1, 1, 1, 1, 1, 1, 1, 1, 1, 1, 1, 1, 1, 1, 1, 1, 1, 1, 1, 1, 1, 1, 1, 1, 1, 1, 1, 1, 1, 1, 1, 1, 1, 1, 1, 1, 1, 1, 1, 1, 1, 1, 1, 1, 1, 1, 1, 1, 1, 1, 1, 1, 1, 1, 1, 1, 1, 1, 1, 1, 1, 1, 1, 1, 1, 1, 1, 1, 1, 1, 1, 1, 1, 1, 1, 1, 1, 1, 1, 1, 1, 1, 1, 1, 1, 1, 1, 1, 1, 1, 1, 1, 1, 1, 1, 1, 1, 1, 1, 1, 1, 1, 1, 1, 1, 1, 1, 1, 1, 1, 1, 1, 1, 1, 1, 1, 1, 1, 1, 1, 1, 1, 1, 1, 1, 1, 1, 1, 1, 1, 1, 1, 1, 1, 1, 1, 1, 1, 1, 1, 1, 1, 1, 1, 1, 1, 1, 1, 1, 1, 1, 1, 1, 1, 1, 1, 1, 1, 1, 1, 1, 1, 1, 1, 1, 1, 1, 1, 1, 1, 1, 1, 1, 1, 1, 1, 1, 1, 1, 1, 1, 1, 1, 1, 1, 1, 1, 1, 1, 1, 1, 1, 1, 1, 1, 1, 1, 1, 1, 1, 1, 1, 1, 1, 1, 1, 1, 1, 1, 1, 1, 1, 1, 1, 1, 1, 1, 1, 1, 1, 1, 1, 1, 1, 1, 1, 1, 1, 1, 1, 1, 1, 1, 1, 1, 1, 1, 1, 1, 1, 1, 1, 1, 1, 1, 1, 1, 1, 1, 1, 1, 1, 1, 1, 1, 1, 1, 1, 1, 1, 1, 1, 1, 1, 1, 1, 1, 1, 1, 1, 1, 1, 1, 1, 1, 1, 1, 1, 1, 1, 1, 1, 1, 1, 1, 1, 1, 1, 1, 1, 1, 1, 1, 1, 1, 1, 1, 1, 1, 1, 1, 1, 1, 1, 1, 1, 1, 1, 1, 1, 1, 1, 1, 1, 1, 1, 1, 1, 1, 1, 1, 1, 1, 1, 1, 1, 1, 1, 1, 1, 1, 1, 1, 1, 1, 1, 1, 1, 1, 1, 1, 1, 1, 1, 1, 1, 1, 1, 1, 1, 1, 1, 1, 1, 1, 1, 1, 1, 1, 1, 1, 1, 1, 1, 1, 1, 1, 1, 1, 1, 1, 1, 1, 1, 1, 1, 1, 1, 1, 1, 1, 1, 1, 1, 1, 1, 1, 1, 1, 1, 1, 1, 1, 1, 1, 1, 1, 1, 1, 1, 1, 1, 1, 1, 1, 1, 1, 1, 1, 1, 1, 1, 1, 1, 1, 1, 1, 1, 1, 1, 1, 1, 1, 1, 1, 1, 1, 1, 1, 1, 1, 1, 1, 1, 1, 1, 1, 1, 1, 1, 1, 1, 1, 1, 1, 1, 1, 1, 1, 1, 1, 1, 1, 1, 1, 1, 1, 1, 1, 1, 1, 1, 1, 1, 1, 1, 1, 1, 1, 1, 1, 1, 1, 1, 1, 1, 1, 1, 1, 1, 1, 1, 1, 1, 1, 1, 1, 1, 1, 1, 1, 1, 1, 1, 1, 1, 1, 1, 1, 1, 1, 1, 1, 1, 1, 1, 1, 1, 1, 1, 1, 1, 1, 1, 1, 1, 1, 1, 1, 1, 1, 1, 1, 1, 1, 1, 1, 1, 1, 1, 1, 1, 1, 1, 1, 1, 1, 1, 1, 1, 1, 1, 1, 1, 1, 1, 1, 1, 1, 1, 1, 1, 1, 1, 1, 1, 1, 1, 1, 1, 1, 1, 1, 1, 1, 1, 1, 1, 1, 1, 1, 1, 1, 1, 1, 1, 1, 1, 1, 1, 1, 1, 1, 1, 1, 1, 1, 1, 1, 1, 1, 1, 1, 1, 1, 1, 1, 1, 1, 1, 1, 1, 1, 1, 1, 1, 1, 1, 1, 1, 1, 1, 1, 1, 1, 1, 1, 1, 1, 1, 1, 1, 1, 1, 1, 1, 1, 1, 1, 1, 1, 1, 1, 1, 1, 1, 1, 1, 1, 1, 1, 1, 1, 1, 1, 1, 1, 1, 1, 1, 1, 1, 1, 1, 1, 1, 1, 1, 1, 1, 1, 1, 1, 1, 1, 1, 1, 1, 1, 1, 1, 1, 1, 1, 1, 1, 1, 1, 1, 1, 1, 1, 1, 1, 1, 1, 1, 1, 1, 1, 1, 1, 1, 1, 1, 1, 1, 1, 1, 1, 1, 1, 1, 1, 1, 1, 1, 1, 1, 1, 1, 1, 1, 1, 1, 1, 1, 1, 1, 1, 1, 1, 1, 1, 1, 1, 1, 1, 1, 1, 1, 1, 1, 1, 1, 1, 1, 1, 1, 1, 1, 1, 1, 1, 1, 1, 1, 1, 1, 1, 1, 1, 1, 1, 1, 1, 1, 1, 1, 1, 1, 1, 1, 1, 1, 1, 1, 1, 1, 1, 1, 1, 1, 1, 1, 1, 1, 1, 1, 1, 1, 1, 1, 1, 1, 1, 1, 1, 1, 1, 1, 1, 1, 1, 1, 1, 1, 1, 1, 1, 1, 1, 1, 1, 1, 1, 1, 1, 1, 1, 1, 1, 1, 1, 1, 1, 1, 1, 1, 1, 1, 1, 1, 1, 1, 1, 1, 1, 1, 1, 1, 1, 1, 1, 1, 1, 1, 1, 1, 1, 1, 1, 1, 1, 1, 1, 1, 1, 1, 1, 1, 1, 1, 2, 2, 2, 2, 2, 2, 1, 1, 1, 1, 1, 1, 1, 1, 1, 1, 1, 1, 1, 1, 1, 1, 1, 1, 1, 1, 1, 2, 2, 2, 2, 2, 2, 2, 2, 2, 1, 1, 1, 2, 2, 2, 2, 1, 1, 1, 1, 1, 1, 1, 1, 1, 1, 1, 1, 1, 1, 1, 1, 1, 1, 1, 1, 1, 1, 1, 1, 1, 1, 1, 1, 1, 1, 1, 1, 1, 1, 1, 1, 1, 1, 1, 1, 1, 1, 1, 1, 1, 1, 2, 2, 2, 2, 2, 2, 2, 2, 2, 2, 2, 2, 2, 2, 2, 2, 2, 2, 2, 1, 1, 1, 1, 1, 1, 1, 1, 1, 1, 1, 1, 1, 1, 1, 1, 1, 1, 1, 1, 1, 1, 1, 1, 1, 1, 1, 1, 1, 1, 1, 1, 1, 1, 1, 1, 1, 1, 1, 1, 1, 1, 1, 1, 1, 1, 1, 1, 1, 1, 1, 1, 1, 1, 1, 1, 2, 2, 2, 2, 2, 2, 1, 1, 1, 1, 1, 1, 1, 1, 1, 1, 1, 1, 1, 1, 1, 1, 1, 1, 1, 1, 1, 1, 1, 1, 1, 1, 1, 1, 1, 1, 1, 1, 1, 1, 1, 1, 1, 1, 1, 1, 1, 1, 1, 1, 2, 2, 2, 2, 2, 2, 2, 2, 2, 2, 2, 2, 1, 1, 1, 1, 1, 2, 2, 1, 1, 1, 1, 1, 1, 1, 1, 1, 1, 1, 1, 1, 1, 1, 1, 1, 1, 1, 1, 1, 1, 1, 1, 1, 1, 1, 1, 1, 1, 1, 1, 1, 1, 1, 1, 1, 1, 1, 2, 2, 2, 2, 2, 1, 1, 1, 1, 1, 1, 1, 1, 1, 1, 1, 1, 1, 1, 1, 1, 2, 2, 2, 2, 2, 2, 2, 1, 1, 1, 1, 1, 1, 1, 1, 1, 1, 1, 1, 1, 1, 1, 1, 1, 1, 1, 1, 2, 2, 1, 1, 1, 1, 1, 1, 1, 1, 1, 1, 1, 1, 1, 1, 1, 1, 1, 1, 1, 1, 1, 1, 1, 1, 1, 1, 1, 1, 1, 1, 1, 1, 1, 1, 1, 1, 1, 1, 1, 1, 1, 2, 2, 2, 1, 1, 1, 1, 1, 2, 2, 2, 2, 2, 2, 2, 2, 2, 2, 2, 1, 1, 1, 1, 1, 1, 1, 1, 1, 1, 1, 1, 1, 1, 1, 1, 1, 1, 1, 1, 1, 1, 1, 1, 1, 1, 1, 2, 2, 2, 2, 2, 2, 2, 2, 2, 2, 2, 2, 2, 1, 1, 1, 1, 1, 1, 1, 1, 1, 1, 1, 1, 1, 1, 1, 1, 1, 1, 1, 1, 1, 1, 1, 1, 1, 1, 2, 2, 2, 2, 2, 2, 2, 2, 1, 1, 1, 1, 1, 1, 1, 1, 1, 1, 1, 1, 1, 1, 1, 1, 1, 1, 1, 1, 1, 1, 1, 1, 1, 1, 1, 1, 1, 1, 1, 2, 2, 2, 2, 2, 2, 2, 2, 2, 1, 1, 1, 1, 1, 1, 1, 1, 1, 1, 1, 1, 1, 1, 1, 1, 1, 1, 1, 1, 1, 1, 1, 1, 1, 1, 1, 1, 1, 1, 1, 1, 1, 1, 1, 1, 1, 1, 1, 1, 1, 1, 1, 1, 1, 1, 1, 1, 1, 1, 1, 1, 1, 1, 1, 1, 1, 2, 2, 2, 2, 2, 2, 2, 2, 2, 2, 2, 2, 2, 2, 2, 2, 2, 2, 2, 1, 1, 1, 1, 1, 1, 1, 1, 1, 1, 1, 1, 1, 1, 1, 1, 1, 1, 1, 1, 1, 1, 1, 1, 1, 1, 1, 1, 1, 1, 1, 1, 1, 1, 1, 1, 1, 1, 1, 1, 1, 1, 1, 1, 1, 1, 1, 1, 1, 1, 1, 1, 2, 2, 2, 2, 1, 1, 1, 1, 1, 1, 1, 1, 1, 1, 1, 1, 1, 1, 1, 1, 1, 1, 1, 1, 1, 1, 1, 1, 1, 1, 1, 1, 1, 1, 1, 1, 1, 1, 1, 1, 1, 1, 1, 1, 1, 1, 1, 1, 1, 1, 1, 1, 1, 1, 1, 1, 1, 1, 1, 1, 1, 1, 1, 1, 1, 1, 1, 1, 1, 1, 1, 1, 1, 1, 1, 1, 1, 1, 1, 1, 1, 1, 1, 1, 1, 1, 1, 1, 1, 1, 1, 1, 1, 1, 1, 1, 1, 1, 1, 2, 2, 2, 2, 2, 2, 2, 1, 1, 1, 1, 1, 1, 1, 1, 1, 1, 1, 2, 2, 2, 2, 2, 2, 2, 2, 2, 2, 2, 2, 2, 2, 2, 2, 2, 2, 2, 2, 2, 2, 1, 1, 1, 1, 1, 1, 1, 1, 1, 1, 1, 1, 1, 1, 1, 1, 1, 1, 1, 1, 1, 1, 1, 1, 1, 1, 1, 1, 1, 1, 1, 1, 1, 1, 1, 1, 1, 1, 1, 1, 1, 1, 1, 1, 1, 1, 1, 1, 1, 1, 1, 1, 1, 1, 1, 1, 1, 1, 1, 1, 1, 1, 1, 1, 1, 1, 1, 1, 1, 1, 1, 1, 1, 1, 1, 1, 1, 1, 1, 1, 2, 2, 1, 1, 1, 1, 1, 1, 1, 1, 1, 1, 1, 1, 1, 1, 1, 1, 1, 1, 1, 1, 1, 1, 1, 1, 1, 1, 1, 1, 1, 1, 1, 1, 1, 1, 1, 1, 1, 1, 1, 1, 1, 1, 1, 1, 1, 1, 1, 1, 1, 1, 1, 1, 1, 1, 1, 1, 1, 1, 1, 1, 1, 1, 1, 1, 1, 1, 1, 1, 1, 1, 1, 1, 2, 2, 2, 2, 2, 2, 2, 2, 1, 1, 1, 1, 1, 1, 1, 1, 1, 1, 1, 1, 1, 1, 1, 1, 1, 1, 1, 1, 2, 2, 2, 2, 2, 2, 1, 1, 2, 1, 1, 1, 1, 1, 1, 1, 1, 1, 1, 1, 1, 1, 1, 1, 1, 1, 1, 1, 1, 1, 1, 1, 1, 1, 1, 1, 1, 1, 1, 1, 1, 1, 1, 1, 1, 1, 1, 1, 1, 1, 1, 1, 1, 1, 1, 1, 1, 1, 1, 1, 1, 1, 1, 2, 2, 2, 2, 2, 2, 2, 2, 2, 2, 2, 2, 1, 1, 1, 1, 1, 1, 1, 1, 1, 1, 1, 1, 1, 1, 1, 1, 1, 1, 1, 1, 1, 1, 1, 1, 1, 1, 1, 1, 2, 2, 2, 2, 2, 2, 2, 2, 2, 2, 2, 2, 2, 1, 1, 1, 1, 1, 1, 1, 1, 1, 1, 1, 1, 1, 1, 1, 1, 1, 1, 1, 1, 1, 1, 1, 1, 1, 1, 1, 1, 1, 2, 2, 2, 2, 2, 2, 1, 1, 1, 1, 1, 1, 1, 1, 1, 1, 1, 1, 1, 1, 1, 1, 1, 1, 1, 1, 1, 1, 1, 1, 1, 1, 2, 2, 2, 2, 2, 2, 2, 2, 2, 1, 1, 1, 1, 1, 1, 1, 2, 2, 2, 2, 2, 2, 1, 1, 1, 1, 1, 1, 1, 1, 1, 1, 1, 1, 1, 1, 1, 1, 1, 1, 2, 2, 2, 2, 2, 2, 2, 2, 1, 1, 1, 1, 1, 1, 1, 1, 1, 1, 1, 1, 1, 1, 1, 1, 1, 1, 1, 1, 1, 1, 1, 1, 1, 1, 1, 1, 1, 2, 2, 2, 2, 2, 2, 1, 1, 1, 1, 1, 1, 1, 1, 1, 1, 1, 1, 1, 1, 1, 1, 1, 1, 1, 1, 1, 1, 1, 1, 1, 1, 1, 1, 1, 1, 1, 1, 1, 1, 1, 1, 1, 2, 1, 1, 1, 1, 1, 1, 1, 1, 1, 1, 1, 1, 1, 1, 1, 1, 1, 1, 1, 1, 1, 1, 1, 1, 1, 1, 1, 1, 1, 1, 1, 2, 2, 2, 2, 2, 2, 2, 1, 1, 1, 1, 1, 1, 1, 1, 1, 1, 1, 1, 1, 1, 1, 1, 1, 1, 1, 1, 1, 1, 1, 1, 1, 1, 1, 1, 1, 1, 1, 1, 1, 1, 1, 1, 1, 2, 2, 2, 1, 1, 1, 1, 1, 1, 1, 1, 1, 1, 1, 1, 1, 1, 1, 2, 2, 2, 2, 2, 2, 1, 1, 1, 1, 1, 1, 1, 1, 1, 1, 1, 1, 1, 1, 1, 1, 1, 1, 1, 1, 1, 1, 1, 1, 1, 1, 1, 1, 1, 2, 2, 2, 1, 1, 1, 1, 1, 1, 1, 1, 1, 1, 1, 1, 1, 1, 1, 1, 1, 1, 1, 1, 1, 1, 1, 1, 1, 2, 2, 1, 1, 1, 1, 1, 1, 1, 1, 1, 1, 1, 1, 1, 2, 2, 2, 1, 1, 1, 1, 1, 1, 1, 1, 1, 1, 1, 1, 1, 1, 1, 1, 1, 1, 1, 1, 1, 1, 2, 1, 1, 1, 1, 1, 1, 1, 1, 2, 1, 1, 1, 1, 1, 1, 1, 1, 1, 2, 1, 1, 2, 2, 1, 1, 1, 1, 1, 1, 1, 1, 1, 1, 1, 1, 1, 2, 2, 2, 2, 1, 1, 1, 1, 1, 1, 1, 1, 1, 1, 1, 1, 1, 1, 1, 1, 1, 2, 1, 1, 1, 1, 1, 1, 1, 1, 1, 1, 1, 2, 2, 2, 2, 1, 1, 1, 1, 1, 1, 1, 1, 1, 1, 1, 1, 1, 1, 1, 1, 2, 2, 2, 2, 1, 1, 1, 1, 1, 1, 1, 1, 1, 1, 1, 1, 1, 1, 1, 1, 2, 1, 1, 1, 1, 1, 1, 1, 1, 1, 1, 1, 2, 1, 1, 1, 1, 1, 1, 1, 1, 1, 1, 1, 1, 1, 2, 1, 2, 2, 2, 2, 2, 1, 2, 2, 2, 2, 2, 2, 2, 2, 1, 1, 1, 1, 1, 1, 2, 2, 2, 2, 2, 2, 2, 2, 1, 1, 1, 2, 2, 1, 1, 1, 1, 1, 1, 1, 1, 1, 1, 1, 1, 2, 2, 2, 2, 1, 1, 1, 1, 1, 1, 1, 1, 1, 1, 1, 1, 1, 1, 1, 1, 1, 1, 1, 1, 1, 1, 1, 1, 1, 1, 1, 1, 1, 1, 2, 1, 1, 1, 1, 1, 1, 1, 1, 1, 1, 1, 1, 1, 1, 1, 1, 1, 1, 1, 1, 1, 1, 1, 1, 2, 1, 1, 1, 1, 1, 1, 1, 1, 1, 1, 1, 1, 1, 1, 1, 1, 1, 1, 2, 2, 2, 2, 2, 2, 1, 1, 1, 1, 1, 1, 1, 1, 1, 1, 1, 1, 1, 1, 1, 1, 1, 1, 1, 1, 1, 1, 1, 1, 1, 1, 1, 1, 1, 2, 1, 1, 1, 1, 1, 1, 1, 1, 2, 2, 1, 1, 1, 1, 1, 1, 1, 1, 1, 1, 1, 1, 1, 1, 1, 1, 1, 1, 1, 1, 1, 1, 1, 1, 1, 1, 1, 1, 1, 1, 1, 1, 1, 2, 2, 2, 2, 2, 1, 1, 1, 1, 1, 1, 1, 1, 1, 1, 1, 1, 2, 1, 1, 1, 1, 1, 1, 1, 1, 1, 1, 1, 1, 1, 1, 1, 1, 1, 1, 1, 1, 1, 1, 1, 1, 1, 1, 1, 2, 2, 1, 1, 1, 1, 1, 1, 1, 1, 1, 1, 1, 1, 1, 1, 1, 1, 1, 1, 1, 1, 1, 1, 1, 1, 1, 1, 1, 1, 1, 1, 1, 2, 2, 1, 1, 1, 1, 1, 1, 1, 1, 1, 1, 1, 1, 1, 1, 1, 1, 1, 1, 1, 1, 2, 1, 1, 1, 1, 1, 1, 1, 1, 1, 1, 1, 1, 1, 1, 1, 1, 1, 1, 1, 1, 1, 1, 1, 1, 1, 1, 1, 1, 1, 1, 1, 1, 2, 1, 1, 1, 1, 1, 1, 1, 1, 1, 1, 1, 1, 1, 1, 1, 1, 1, 1, 1, 1, 1, 1, 1, 1, 1, 1, 1, 1, 1, 1, 1, 1, 1, 1, 1, 1, 1, 1, 1, 1, 1, 1, 1, 1, 1, 1, 1, 1, 1, 1, 1, 2, 1, 1, 1, 1, 1, 1, 1, 1, 1, 1, 1, 1, 1, 1, 1, 1, 1, 1, 1, 1, 1, 1, 1, 1, 1, 1, 1, 1, 1, 2, 2, 2, 1, 1, 1, 1, 2, 2, 1, 1, 1, 1, 1, 1, 1, 1, 1, 1, 1, 2, 1, 1, 1, 1, 1, 1, 1, 1, 1, 1, 1, 1, 1, 1, 1, 1, 1, 1, 1, 1, 1, 1, 1, 1, 1, 1, 1, 1, 1, 1, 1, 1, 1, 1, 1, 1, 1, 2, 2, 2, 2, 1, 1, 1, 1, 1, 1, 1, 1, 1, 1, 1, 1, 1, 1, 1, 1, 1, 1, 1, 1, 1, 1, 1, 1, 1, 1, 1, 1, 1, 1, 1, 1, 1, 1, 1, 1, 1, 1, 1, 1, 1, 1, 1, 1, 2, 1, 1, 1, 1, 1, 1, 1, 1, 1, 1, 1, 1, 1, 1, 1, 1, 1, 1, 1, 1, 1, 1, 1, 2, 2, 2, 1, 1, 1, 1, 2, 2, 2, 2, 1, 1, 1, 1, 1, 1, 1, 1, 1, 2, 2, 2, 1, 1, 1, 1, 1, 1, 1, 1, 1, 1, 1, 1, 1, 2, 1, 1, 1, 1, 1, 1, 1, 1, 1, 1, 1, 1, 1, 1, 1, 1, 1, 1, 1, 1, 1, 1, 1, 1, 1, 1, 1, 1, 1, 1, 1, 1, 1, 1, 1, 1, 1, 1, 1, 1, 1, 1, 1, 1, 1, 1, 1, 1, 1, 1, 1, 1, 1, 1, 1, 1, 1, 1, 1, 1, 1, 1, 1, 1, 1, 1, 1, 1, 1, 1, 1, 1, 1, 1, 2, 2, 1, 1, 1, 1, 1, 1, 1, 1, 1, 1, 1, 1, 1, 1, 1, 1, 2, 2, 1, 1, 1, 1, 1, 1, 1, 1, 1, 1, 1, 1, 1, 1, 1, 1, 1, 1, 1, 1, 1, 1, 1, 1, 1, 1, 2, 1, 1, 1, 1, 1, 1, 1, 1, 1, 1, 1, 1, 1, 1, 1, 1, 1, 1, 1, 1, 1, 1, 1, 1, 1, 1, 1, 1, 1, 1, 1, 1, 1, 1, 1, 1, 1, 1, 2, 2, 1, 1, 1, 1, 2, 2, 2, 2, 2, 2, 2, 2, 2, 2, 2, 2, 2, 2, 2, 2, 2, 2, 2, 1, 1, 1, 1, 1, 1, 1, 1, 1, 1, 1, 1, 1, 1, 1, 1, 1, 1, 1, 1, 1, 1, 1, 1, 2, 2, 2, 2, 2, 2, 2, 2, 2, 2, 2, 2, 2, 2, 2, 2, 2, 2, 2, 2, 2]\n",
            "Identifiants de requête :  ['PLAIN-111', 'PLAIN-996', 'PLAIN-530', 'PLAIN-540', 'PLAIN-781', 'PLAIN-720', 'PLAIN-132', 'PLAIN-965', 'PLAIN-891', 'PLAIN-816', 'PLAIN-612', 'PLAIN-101', 'PLAIN-805', 'PLAIN-11', 'PLAIN-791', 'PLAIN-570', 'PLAIN-164', 'PLAIN-216', 'PLAIN-670', 'PLAIN-67', 'PLAIN-700', 'PLAIN-730', 'PLAIN-90', 'PLAIN-602', 'PLAIN-912', 'PLAIN-945', 'PLAIN-933', 'PLAIN-519', 'PLAIN-710', 'PLAIN-976', 'PLAIN-279', 'PLAIN-247', 'PLAIN-633', 'PLAIN-750', 'PLAIN-122', 'PLAIN-357', 'PLAIN-195', 'PLAIN-508', 'PLAIN-467', 'PLAIN-560', 'PLAIN-760', 'PLAIN-582', 'PLAIN-881', 'PLAIN-206', 'PLAIN-871', 'PLAIN-55', 'PLAIN-319', 'PLAIN-152', 'PLAIN-370', 'PLAIN-174', 'PLAIN-142', 'PLAIN-1007', 'PLAIN-428', 'PLAIN-656', 'PLAIN-901', 'PLAIN-185', 'PLAIN-331', 'PLAIN-417', 'PLAIN-440', 'PLAIN-986', 'PLAIN-498', 'PLAIN-550', 'PLAIN-32', 'PLAIN-644', 'PLAIN-43', 'PLAIN-923', 'PLAIN-622', 'PLAIN-394', 'PLAIN-290', 'PLAIN-955', 'PLAIN-592', 'PLAIN-1', 'PLAIN-382', 'PLAIN-848', 'PLAIN-770', 'PLAIN-77', 'PLAIN-258', 'PLAIN-477', 'PLAIN-487', 'PLAIN-269', 'PLAIN-304', 'PLAIN-740', 'PLAIN-226', 'PLAIN-837', 'PLAIN-22', 'PLAIN-343', 'PLAIN-859', 'PLAIN-680', 'PLAIN-456', 'PLAIN-237', 'PLAIN-406', 'PLAIN-690', 'PLAIN-826']\n",
            "Identifiants de document :  ['MED-3485', 'MED-4589', 'MED-2106', 'MED-2891', 'MED-2053', 'MED-4095', 'MED-3770', 'MED-3635', 'MED-4071', 'MED-2424', 'MED-1812', 'MED-2704', 'MED-4038', 'MED-1846', 'MED-2170', 'MED-951', 'MED-1216', 'MED-2144', 'MED-3541', 'MED-2772', 'MED-3874', 'MED-2521', 'MED-2985', 'MED-4124', 'MED-2276', 'MED-4349', 'MED-5070', 'MED-3745', 'MED-874', 'MED-1188', 'MED-5171', 'MED-2340', 'MED-3591', 'MED-2215', 'MED-3669', 'MED-5016', 'MED-2356', 'MED-5059', 'MED-2657', 'MED-2208', 'MED-3376', 'MED-4186', 'MED-4174', 'MED-3318', 'MED-1832', 'MED-2925', 'MED-3373', 'MED-2077', 'MED-4159', 'MED-2479', 'MED-2367', 'MED-2344', 'MED-2446', 'MED-1267', 'MED-3820', 'MED-4144', 'MED-2154', 'MED-3475', 'MED-2089', 'MED-1843', 'MED-1740', 'MED-3757', 'MED-4158', 'MED-2219', 'MED-5081', 'MED-4512', 'MED-4276', 'MED-4556', 'MED-1718', 'MED-3840', 'MED-3708', 'MED-2021', 'MED-4523', 'MED-4649', 'MED-4412', 'MED-2035', 'MED-4222', 'MED-4600', 'MED-3728', 'MED-3453', 'MED-1416', 'MED-2138', 'MED-1289', 'MED-1162', 'MED-1804', 'MED-3817', 'MED-5191', 'MED-2986', 'MED-1240', 'MED-1761', 'MED-2100', 'MED-2794', 'MED-2455', 'MED-1412', 'MED-4859', 'MED-3461', 'MED-1615', 'MED-4007', 'MED-4746', 'MED-4485', 'MED-1741', 'MED-3952', 'MED-4147', 'MED-744', 'MED-2040', 'MED-1268', 'MED-2713', 'MED-2589', 'MED-4399', 'MED-1171', 'MED-2572', 'MED-2073', 'MED-4393', 'MED-3055', 'MED-3747', 'MED-5175', 'MED-2706', 'MED-2146', 'MED-2041', 'MED-1219', 'MED-1576', 'MED-2418', 'MED-3628', 'MED-3720', 'MED-4384', 'MED-2450', 'MED-1425', 'MED-3830', 'MED-2597', 'MED-4918', 'MED-2347', 'MED-4013', 'MED-3465', 'MED-3107', 'MED-1285', 'MED-2174', 'MED-2726', 'MED-4938', 'MED-5102', 'MED-2678', 'MED-2675', 'MED-4550', 'MED-1810', 'MED-5169', 'MED-3787', 'MED-3046', 'MED-2076', 'MED-4484', 'MED-3982', 'MED-1708', 'MED-3457', 'MED-3542', 'MED-3629', 'MED-3371', 'MED-4801', 'MED-2231', 'MED-3446', 'MED-3479', 'MED-4803', 'MED-4192', 'MED-2075', 'MED-3473', 'MED-4459', 'MED-4180', 'MED-4851', 'MED-4501', 'MED-3699', 'MED-3025', 'MED-1848', 'MED-2895', 'MED-3525', 'MED-2584', 'MED-757', 'MED-5324', 'MED-3800', 'MED-1858', 'MED-3372', 'MED-5190', 'MED-2504', 'MED-2130', 'MED-3798', 'MED-1140', 'MED-4019', 'MED-2673', 'MED-3695', 'MED-2049', 'MED-2139', 'MED-3484', 'MED-4540', 'MED-3652', 'MED-2046', 'MED-2966', 'MED-2578', 'MED-3813', 'MED-5073', 'MED-4316', 'MED-3811', 'MED-3035', 'MED-2591', 'MED-4469', 'MED-2646', 'MED-1616', 'MED-2607', 'MED-5170', 'MED-4658', 'MED-4128', 'MED-3598', 'MED-5325', 'MED-2414', 'MED-2094', 'MED-1442', 'MED-2205', 'MED-4554', 'MED-5152', 'MED-1833', 'MED-1312', 'MED-2493', 'MED-4742', 'MED-1172', 'MED-2972', 'MED-4710', 'MED-3951', 'MED-4735', 'MED-1850', 'MED-1181', 'MED-2136', 'MED-3734', 'MED-2063', 'MED-3094', 'MED-4035', 'MED-3447', 'MED-4377', 'MED-3350', 'MED-3442', 'MED-3443', 'MED-3229', 'MED-3595', 'MED-3476', 'MED-3555', 'MED-3315', 'MED-745', 'MED-2059', 'MED-2469', 'MED-1796', 'MED-4460', 'MED-2052', 'MED-1538', 'MED-1689', 'MED-3450', 'MED-2570', 'MED-4953', 'MED-2085', 'MED-4823', 'MED-2989', 'MED-4030', 'MED-3464', 'MED-4726', 'MED-3977', 'MED-2710', 'MED-4133', 'MED-1575', 'MED-1789', 'MED-4617', 'MED-4243', 'MED-1174', 'MED-2712', 'MED-4818', 'MED-3753', 'MED-4126', 'MED-4585', 'MED-3797', 'MED-5147', 'MED-4255', 'MED-3962', 'MED-2971', 'MED-5337', 'MED-3756', 'MED-1313', 'MED-3969', 'MED-3956', 'MED-1845', 'MED-3615', 'MED-3103', 'MED-1274', 'MED-4408', 'MED-1256', 'MED-925', 'MED-3500', 'MED-3723', 'MED-1748', 'MED-4149', 'MED-2943', 'MED-3521', 'MED-3714', 'MED-1711', 'MED-2163', 'MED-4639', 'MED-2382', 'MED-3609', 'MED-2273', 'MED-3137', 'MED-4132', 'MED-3984', 'MED-2014', 'MED-3226', 'MED-1143', 'MED-4424', 'MED-2082', 'MED-4430', 'MED-3620', 'MED-2888', 'MED-1747', 'MED-5006', 'MED-2096', 'MED-4433', 'MED-2905', 'MED-3713', 'MED-2140', 'MED-5034', 'MED-4715', 'MED-5089', 'MED-2967', 'MED-4157', 'MED-2365', 'MED-4782', 'MED-4127', 'MED-1314', 'MED-3471', 'MED-3702', 'MED-1682', 'MED-4764', 'MED-3812', 'MED-4332', 'MED-4999', 'MED-3163', 'MED-2351', 'MED-4666', 'MED-1577', 'MED-4685', 'MED-4543', 'MED-3689', 'MED-1257', 'MED-2178', 'MED-4996', 'MED-1161', 'MED-1252', 'MED-3012', 'MED-3093', 'MED-4382', 'MED-4140', 'MED-4458', 'MED-3630', 'MED-4033', 'MED-4716', 'MED-5038', 'MED-3057', 'MED-4058', 'MED-5326', 'MED-5193', 'MED-2051', 'MED-4327', 'MED-3607', 'MED-1147', 'MED-4990', 'MED-3275', 'MED-4905', 'MED-5156', 'MED-3693', 'MED-2520', 'MED-2979', 'MED-2245', 'MED-2157', 'MED-2994', 'MED-1859', 'MED-2474', 'MED-3455', 'MED-939', 'MED-4135', 'MED-4981', 'MED-2378', 'MED-2155', 'MED-2464', 'MED-1293', 'MED-2658', 'MED-2460', 'MED-5329', 'MED-3153', 'MED-4143', 'MED-3087', 'MED-4939', 'MED-3034', 'MED-1317', 'MED-2032', 'MED-3302', 'MED-3601', 'MED-3059', 'MED-3086', 'MED-5194', 'MED-3960', 'MED-3001', 'MED-3520', 'MED-3502', 'MED-4786', 'MED-4957', 'MED-3983', 'MED-2677', 'MED-2472', 'MED-1760', 'MED-4559', 'MED-3013', 'MED-3627', 'MED-3445', 'MED-2598', 'MED-4919', 'MED-3351', 'MED-3599', 'MED-2173', 'MED-1294', 'MED-3687', 'MED-4538', 'MED-3634', 'MED-3732', 'MED-4634', 'MED-4616', 'MED-3526', 'MED-3243', 'MED-3781', 'MED-2586', 'MED-3028', 'MED-2643', 'MED-2595', 'MED-2494', 'MED-2656', 'MED-4173', 'MED-3586', 'MED-3501', 'MED-2596', 'MED-2346', 'MED-3548', 'MED-4932', 'MED-3958', 'MED-4641', 'MED-3033', 'MED-5104', 'MED-4176', 'MED-4882', 'MED-2202', 'MED-4392', 'MED-3451', 'MED-4669', 'MED-3697', 'MED-2088', 'MED-4819', 'MED-2921', 'MED-3793', 'MED-1413', 'MED-4845', 'MED-4138', 'MED-2773', 'MED-3091', 'MED-940', 'MED-4317', 'MED-2039', 'MED-2098', 'MED-3681', 'MED-2546', 'MED-4423', 'MED-1390', 'MED-4233', 'MED-3771', 'MED-3060', 'MED-3252', 'MED-3668', 'MED-1311', 'MED-3619', 'MED-2990', 'MED-3248', 'MED-2360', 'MED-4069', 'MED-2239', 'MED-2581', 'MED-3744', 'MED-3054', 'MED-4171', 'MED-3724', 'MED-2337', 'MED-1420', 'MED-2904', 'MED-2660', 'MED-4172', 'MED-2364', 'MED-4954', 'MED-2893', 'MED-4607', 'MED-4984', 'MED-2705', 'MED-3895', 'MED-4024', 'MED-3497', 'MED-3649', 'MED-2158', 'MED-1272', 'MED-3513', 'MED-4025', 'MED-2702', 'MED-1157', 'MED-2274', 'MED-2468', 'MED-4891', 'MED-4876', 'MED-3193', 'MED-3375', 'MED-2083', 'MED-3554', 'MED-3381', 'MED-3533', 'MED-4711', 'MED-4457', 'MED-4627', 'MED-1813', 'MED-3452', 'MED-3775', 'MED-4278', 'MED-4418', 'MED-4101', 'MED-4170', 'MED-5000', 'MED-4068', 'MED-3105', 'MED-4452', 'MED-4656', 'MED-4872', 'MED-3976', 'MED-3530', 'MED-1574', 'MED-3848', 'MED-4000', 'MED-2982', 'MED-2036', 'MED-3535', 'MED-2054', 'MED-3667', 'MED-4130', 'MED-3085', 'MED-2359', 'MED-2999', 'MED-873', 'MED-4125', 'MED-1341', 'MED-3821', 'MED-4628', 'MED-2703', 'MED-1533', 'MED-2649', 'MED-2200', 'MED-4060', 'MED-4930', 'MED-4319', 'MED-4762', 'MED-1300', 'MED-4936', 'MED-4654', 'MED-3552', 'MED-3963', 'MED-1146', 'MED-5077', 'MED-1160', 'MED-1444', 'MED-5122', 'MED-5332', 'MED-2203', 'MED-3108', 'MED-5121', 'MED-4602', 'MED-3110', 'MED-3348', 'MED-3231', 'MED-1282', 'MED-4652', 'MED-3378', 'MED-1580', 'MED-4653', 'MED-1271', 'MED-2506', 'MED-3384', 'MED-4425', 'MED-3685', 'MED-4385', 'MED-2304', 'MED-2824', 'MED-4615', 'MED-1217', 'MED-4461', 'MED-2156', 'MED-3232', 'MED-3721', 'MED-3089', 'MED-3626', 'MED-4474', 'MED-3953', 'MED-1690', 'MED-1610', 'MED-4057', 'MED-4531', 'MED-4281', 'MED-1266', 'MED-2069', 'MED-4161', 'MED-5132', 'MED-2679', 'MED-4944', 'MED-762', 'MED-4160', 'MED-3383', 'MED-4023', 'MED-4613', 'MED-1243', 'MED-4912', 'MED-1273', 'MED-4620', 'MED-2090', 'MED-2043', 'MED-2885', 'MED-2065', 'MED-2602', 'MED-4446', 'MED-4183', 'MED-3531', 'MED-3819', 'MED-3316', 'MED-3603', 'MED-2016', 'MED-1837', 'MED-3758', 'MED-4668', 'MED-2661', 'MED-4629', 'MED-1844', 'MED-2599', 'MED-4410', 'MED-3946', 'MED-4794', 'MED-4156', 'MED-3682', 'MED-3215', 'MED-1304', 'MED-4844', 'MED-4187', 'MED-2177', 'MED-3241', 'MED-4778', 'MED-5338', 'MED-2420', 'MED-3690', 'MED-2175', 'MED-3141', 'MED-5328', 'MED-2926', 'MED-3444', 'MED-3964', 'MED-1687', 'MED-2571', 'MED-1685', 'MED-2171', 'MED-2027', 'MED-2379', 'MED-1419', 'MED-5120', 'MED-1706', 'MED-4141', 'MED-3143', 'MED-3441', 'MED-2339', 'MED-3748', 'MED-3588', 'MED-2924', 'MED-1602', 'MED-4873', 'MED-1254', 'MED-4313', 'MED-4179', 'MED-4072', 'MED-3354', 'MED-2448', 'MED-4631', 'MED-1752', 'MED-4417', 'MED-5197', 'MED-4943', 'MED-2654', 'MED-4465', 'MED-1176', 'MED-3672', 'MED-4287', 'MED-3631', 'MED-756', 'MED-2997', 'MED-3716', 'MED-5333', 'MED-2513', 'MED-3834', 'MED-1803', 'MED-2922', 'MED-4055', 'MED-1798', 'MED-2303', 'MED-1864', 'MED-4456', 'MED-2338', 'MED-2461', 'MED-2445', 'MED-4644', 'MED-5189', 'MED-2350', 'MED-3608', 'MED-2127', 'MED-924', 'MED-1801', 'MED-1579', 'MED-2449', 'MED-4588', 'MED-2812', 'MED-4165', 'MED-1754', 'MED-2507', 'MED-5138', 'MED-5188', 'MED-2676', 'MED-3789', 'MED-1302', 'MED-3164', 'MED-1283', 'MED-3509', 'MED-2176', 'MED-3719', 'MED-3900', 'MED-3139', 'MED-3482', 'MED-4239', 'MED-1253', 'MED-3816', 'MED-3966', 'MED-5072', 'MED-3876', 'MED-914', 'MED-4548', 'MED-2529', 'MED-5080', 'MED-3978', 'MED-4587', 'MED-4182', 'MED-4941', 'MED-2423', 'MED-4810', 'MED-1693', 'MED-2603', 'MED-4342', 'MED-4560', 'MED-3460', 'MED-3730', 'MED-3636', 'MED-3776', 'MED-3250', 'MED-4265', 'MED-3098', 'MED-1686', 'MED-5071', 'MED-4102', 'MED-4785', 'MED-3380', 'MED-4854', 'MED-2132', 'MED-3673', 'MED-2577', 'MED-1287', 'MED-3773', 'MED-3704', 'MED-4799', 'MED-3498', 'MED-3653', 'MED-5335', 'MED-1738', 'MED-4665', 'MED-2159', 'MED-3651', 'MED-118', 'MED-3729', 'MED-3688', 'MED-4671', 'MED-5040', 'MED-3221', 'MED-4544', 'MED-2240', 'MED-4324', 'MED-5146', 'MED-4780', 'MED-4228', 'MED-3906', 'MED-4545', 'MED-2593', 'MED-2067', 'MED-3878', 'MED-2698', 'MED-2020', 'MED-4455', 'MED-4402', 'MED-1842', 'MED-4169', 'MED-4630', 'MED-2605', 'MED-3358', 'MED-4978', 'MED-1278', 'MED-4047', 'MED-1651', 'MED-1581', 'MED-1381', 'MED-4989', 'MED-1418', 'MED-2458', 'MED-3496', 'MED-1415', 'MED-4646', 'MED-3796', 'MED-2305', 'MED-3161', 'MED-2102', 'MED-5134', 'MED-4539', 'MED-1441', 'MED-2459', 'MED-2234', 'MED-3456', 'MED-4853', 'MED-2060', 'MED-3751', 'MED-2488', 'MED-2910', 'MED-5092', 'MED-3752', 'MED-4225', 'MED-3875', 'MED-1582', 'MED-3236', 'MED-4100', 'MED-3510', 'MED-2980', 'MED-4887', 'MED-3353', 'MED-938', 'MED-2107', 'MED-4847', 'MED-915', 'MED-4383', 'MED-2497', 'MED-2814', 'MED-3959', 'MED-2068', 'MED-2604', 'MED-860', 'MED-4513', 'MED-5110', 'MED-3711', 'MED-2357', 'MED-4686', 'MED-1177', 'MED-2079', 'MED-1421', 'MED-1291', 'MED-1695', 'MED-2968', 'MED-2233', 'MED-1388', 'MED-4442', 'MED-3678', 'MED-2648', 'MED-2165', 'MED-2129', 'MED-4553', 'MED-1751', 'MED-3707', 'MED-2108', 'MED-4771', 'MED-3970', 'MED-2984', 'MED-3540', 'MED-3279', 'MED-2026', 'MED-1736', 'MED-3165', 'MED-5018', 'MED-2575', 'MED-1853', 'MED-3670', 'MED-2771', 'MED-3709', 'MED-5065', 'MED-2013', 'MED-2381', 'MED-2993', 'MED-2519', 'MED-2349', 'MED-3806', 'MED-2128', 'MED-2655', 'MED-2579', 'MED-3979', 'MED-3683', 'MED-2763', 'MED-1393', 'MED-2047', 'MED-2153', 'MED-3944', 'MED-5322', 'MED-3247', 'MED-329', 'MED-4049', 'MED-2207', 'MED-5149', 'MED-2150', 'MED-847', 'MED-2361', 'MED-1218', 'MED-4006', 'MED-2601', 'MED-1308', 'MED-2559', 'MED-2141', 'MED-2137', 'MED-2306', 'MED-4776', 'MED-1276', 'MED-1279', 'MED-3512', 'MED-3095', 'MED-3142', 'MED-2484', 'MED-3853', 'MED-4053', 'MED-2363', 'MED-4502', 'MED-4142', 'MED-2627', 'MED-1819', 'MED-5331', 'MED-4022', 'MED-1184', 'MED-3459', 'MED-2695', 'MED-4534', 'MED-2983', 'MED-4802', 'MED-4148', 'MED-1617', 'MED-1316', 'MED-2590', 'MED-1792', 'MED-1797', 'MED-2169', 'MED-2700', 'MED-2353', 'MED-2278', 'MED-2172', 'MED-2246', 'MED-3731', 'MED-3233', 'MED-3462', 'MED-859', 'MED-2044', 'MED-2619', 'MED-5117', 'MED-2024', 'MED-2058', 'MED-4643', 'MED-1618', 'MED-4576', 'MED-4463', 'MED-3606', 'MED-5053', 'MED-3671', 'MED-5109', 'MED-3710', 'MED-3665', 'MED-4328', 'MED-4638', 'MED-1701', 'MED-3755', 'MED-2694', 'MED-4804', 'MED-2247', 'MED-3718', 'MED-1187', 'MED-950', 'MED-2456', 'MED-1817', 'MED-4139', 'MED-3523', 'MED-2038', 'MED-5133', 'MED-3379', 'MED-1613', 'MED-4667', 'MED-2697', 'MED-3272', 'MED-3058', 'MED-2568', 'MED-1802', 'MED-4940', 'MED-5112', 'MED-2452', 'MED-4450', 'MED-5363', 'MED-3602', 'MED-4886', 'MED-4075', 'MED-2889', 'MED-2928', 'MED-2066', 'MED-4863', 'MED-2693', 'MED-3942', 'MED-1185', 'MED-4921', 'MED-3833', 'MED-2644', 'MED-2988', 'MED-4451', 'MED-3173', 'MED-1841', 'MED-3968', 'MED-4005', 'MED-5130', 'MED-4004', 'MED-2517', 'MED-4448', 'MED-4590', 'MED-4134', 'MED-4194', 'MED-2890', 'MED-1847', 'MED-3717', 'MED-1857', 'MED-4604', 'MED-2580', 'MED-3527', 'MED-875', 'MED-1836', 'MED-1811', 'MED-3499', 'MED-5079', 'MED-1339', 'MED-3270', 'MED-3271', 'MED-4640', 'MED-4875', 'MED-3801', 'MED-910', 'MED-3506', 'MED-4480', 'MED-4193', 'MED-4330', 'MED-3092', 'MED-5196', 'MED-4551', 'MED-1165', 'MED-3786', 'MED-2341', 'MED-2064', 'MED-3676', 'MED-3680', 'MED-1443', 'MED-3618', 'MED-3511', 'MED-3622', 'MED-4988', 'MED-4987', 'MED-4291', 'MED-3772', 'MED-2099', 'MED-3543', 'MED-2594', 'MED-3694', 'MED-4518', 'MED-5339', 'MED-5303', 'MED-3027', 'MED-4991', 'MED-5037', 'MED-3587', 'MED-2512', 'MED-3896', 'MED-4146', 'MED-2544', 'MED-937', 'MED-2161', 'MED-2028', 'MED-2518', 'MED-4621', 'MED-3810', 'MED-1280', 'MED-2884', 'MED-4288', 'MED-758', 'MED-5019', 'MED-4907', 'MED-3374', 'MED-3168', 'MED-2899', 'MED-1327', 'MED-746', 'MED-3370', 'MED-5128', 'MED-1795', 'MED-4184', 'MED-2152', 'MED-2426', 'MED-3941', 'MED-4797', 'MED-1720', 'MED-3228', 'MED-2696', 'MED-2892', 'MED-1620', 'MED-2057', 'MED-2243', 'MED-2135', 'MED-2416', 'MED-2511', 'MED-5008', 'MED-3897', 'MED-3666', 'MED-3136', 'MED-3632', 'MED-4811', 'MED-2162', 'MED-3947', 'MED-3102', 'MED-5060', 'MED-1249', 'MED-1840', 'MED-1158', 'MED-4487', 'MED-3625', 'MED-2033', 'MED-5151', 'MED-5113', 'MED-2970', 'MED-4883', 'MED-4482', 'MED-2770', 'MED-1609', 'MED-5055', 'MED-2708', 'MED-4881', 'MED-1534', 'MED-1309', 'MED-2103', 'MED-4612', 'MED-3790', 'MED-4266', 'MED-3674', 'MED-3715', 'MED-3052', 'MED-5054', 'MED-2707', 'MED-5154', 'MED-3547', 'MED-1793', 'MED-3100', 'MED-2501', 'MED-3783', 'MED-3950', 'MED-5087', 'MED-2093', 'MED-3738', 'MED-2166', 'MED-2652', 'MED-2384', 'MED-5341', 'MED-3677', 'MED-1247', 'MED-3843', 'MED-3166', 'MED-3943', 'MED-4197', 'MED-2235', 'MED-2034', 'MED-5131', 'MED-4099', 'MED-3712', 'MED-1301', 'MED-4767', 'MED-4942', 'MED-3051', 'MED-1871', 'MED-3703', 'MED-3815', 'MED-3967', 'MED-1790', 'MED-3545', 'MED-2514', 'MED-3648', 'MED-3836', 'MED-3675', 'MED-3818', 'MED-3945', 'MED-2769', 'MED-4722', 'MED-5088', 'MED-3784', 'MED-3359', 'MED-3283', 'MED-1714', 'MED-4002', 'MED-3377', 'MED-3532', 'MED-3477', 'MED-1791', 'MED-3021', 'MED-5001', 'MED-1426', 'MED-1696', 'MED-4037', 'MED-3679', 'MED-3474', 'MED-4994', 'MED-1338', 'MED-4034', 'MED-2820', 'MED-4188', 'MED-4769', 'MED-2495', 'MED-4464', 'MED-4536', 'MED-2585', 'MED-2074', 'MED-1683', 'MED-3245', 'MED-5033', 'MED-3722', 'MED-2229', 'MED-3743', 'MED-4475', 'MED-3706', 'MED-1167', 'MED-1221', 'MED-4329', 'MED-3742', 'MED-4632', 'MED-1800', 'MED-4532', 'MED-2164', 'MED-4029', 'MED-5085', 'MED-3282', 'MED-3692', 'MED-4059', 'MED-3544', 'MED-1242', 'MED-4454', 'MED-3514', 'MED-5172', 'MED-3111', 'MED-3237', 'MED-2071', 'MED-4476', 'MED-4642', 'MED-3454', 'MED-5237', 'MED-3481', 'MED-5090', 'MED-3633', 'MED-4001', 'MED-3227', 'MED-2355', 'MED-2923', 'MED-2062', 'MED-4524', 'MED-2699', 'MED-2031', 'MED-2774', 'MED-3893', 'MED-4520', 'MED-4655', 'MED-4267', 'MED-1417', 'MED-2573', 'MED-4976', 'MED-3691', 'MED-2662', 'MED-1794', 'MED-2496', 'MED-3528', 'MED-2145', 'MED-4411', 'MED-2050', 'MED-1258', 'MED-2714', 'MED-2209', 'MED-3782', 'MED-3508', 'MED-2080', 'MED-3469', 'MED-3621', 'MED-3478', 'MED-2709', 'MED-1248', 'MED-3590', 'MED-4486', 'MED-2587', 'MED-5135', 'MED-4181', 'MED-2078', 'MED-1743', 'MED-1724', 'MED-2482', 'MED-5340', 'MED-2101', 'MED-1139', 'MED-1799', 'MED-3769', 'MED-3617', 'MED-4535', 'MED-2092', 'MED-4743', 'MED-1315', 'MED-1750', 'MED-905', 'MED-3458', 'MED-3030', 'MED-2509', 'MED-2588', 'MED-3832', 'MED-1611', 'MED-4290', 'MED-4185', 'MED-3023', 'MED-2510', 'MED-1290', 'MED-2086', 'MED-3305', 'MED-4325', 'MED-3822', 'MED-4533', 'MED-1246', 'MED-3965', 'MED-3955', 'MED-743', 'MED-4289', 'MED-1170', 'MED-2352', 'MED-2653', 'MED-3807', 'MED-2368', 'MED-3281', 'MED-3251', 'MED-3910', 'MED-2366', 'MED-1277', 'MED-5334', 'MED-3589', 'MED-3877', 'MED-3056', 'MED-3217', 'MED-1245', 'MED-2232', 'MED-4481', 'MED-1852', 'MED-5108', 'MED-4178', 'MED-4719', 'MED-1722', 'MED-4177', 'MED-3313', 'MED-4516', 'MED-5061', 'MED-3726', 'MED-3549', 'MED-2502', 'MED-1849', 'MED-1292', 'MED-2616', 'MED-4358', 'MED-4637', 'MED-2453', 'MED-2722', 'MED-2606', 'MED-2498', 'MED-4073', 'MED-3519', 'MED-3369', 'MED-1619', 'MED-3954', 'MED-2674', 'MED-4195', 'MED-4131', 'MED-4849', 'MED-5195', 'MED-1389', 'MED-5105', 'MED-4129', 'MED-2647', 'MED-1749', 'MED-5177', 'MED-2201', 'MED-2886', 'MED-4846', 'MED-5204', 'MED-2097', 'MED-2037', 'MED-4712', 'MED-4468', 'MED-4027', 'MED-3238', 'MED-2592', 'MED-4768', 'MED-2775', 'MED-4106', 'MED-2272', 'MED-3274', 'MED-2906', 'MED-1820', 'MED-736', 'MED-3809', 'MED-3278', 'MED-2376', 'MED-2882', 'MED-2618', 'MED-1299', 'MED-1295', 'MED-3157', 'MED-1614', 'MED-4196', 'MED-4447', 'MED-4483', 'MED-3794', 'MED-3550', 'MED-1814', 'MED-1173', 'MED-5007', 'MED-2204', 'MED-4852', 'MED-4070', 'MED-4031', 'MED-2030', 'MED-4843', 'MED-4220', 'MED-4517', 'MED-3099', 'MED-3780', 'MED-2383', 'MED-4365', 'MED-5035', 'MED-4906', 'MED-1250', 'MED-4798', 'MED-4284', 'MED-1284', 'MED-4479', 'MED-3981', 'MED-2362', 'MED-3449', 'MED-4578', 'MED-3949', 'MED-4831', 'MED-2168', 'MED-4760', 'MED-2451', 'MED-2221', 'MED-1578', 'MED-3138', 'MED-3053', 'MED-4635', 'MED-3106', 'MED-4888', 'MED-2422', 'MED-5327', 'MED-3000', 'MED-4407', 'MED-2475', 'MED-3961', 'MED-4050', 'MED-2091', 'MED-3024', 'MED-3197', 'MED-3733', 'MED-4821', 'MED-2042', 'MED-3355', 'MED-1340', 'MED-3539', 'MED-1298', 'MED-3273', 'MED-926', 'MED-4609', 'MED-3551', 'MED-4911', 'MED-1215', 'MED-3382', 'MED-3596', 'MED-2907', 'MED-2105', 'MED-3791', 'MED-3310', 'MED-2244', 'MED-2505', 'MED-4292', 'MED-2417', 'MED-4223', 'MED-2348', 'MED-4985', 'MED-3483', 'MED-3750', 'MED-2048', 'MED-3795', 'MED-4820', 'MED-2815', 'MED-2210', 'MED-1650', 'MED-4977', 'MED-5032', 'MED-4633', 'MED-3352', 'MED-5118', 'MED-1414', 'MED-2659', 'MED-3904', 'MED-2650', 'MED-5148', 'MED-4175', 'MED-4800', 'MED-4606', 'MED-1860', 'MED-1535', 'MED-3467', 'MED-1612', 'MED-1688', 'MED-4051', 'MED-4744', 'MED-2087', 'MED-3686', 'MED-1164', 'MED-2022', 'MED-5086', 'MED-4400', 'MED-5239', 'MED-1175', 'MED-4247', 'MED-1166', 'MED-3534', 'MED-3044', 'MED-3198', 'MED-330', 'MED-4998', 'MED-4443', 'MED-1186', 'MED-1178', 'MED-4403', 'MED-3792', 'MED-1707', 'MED-3593', 'MED-1241', 'MED-1303', 'MED-4779', 'MED-3507', 'MED-1142', 'MED-3908', 'MED-3242', 'MED-5005', 'MED-4605', 'MED-2056', 'MED-4880', 'MED-1739', 'MED-5293', 'MED-3235', 'MED-2345', 'MED-1697', 'MED-1807', 'MED-5020', 'MED-2489', 'MED-2913', 'MED-3038', 'MED-4389', 'MED-3156', 'MED-1808', 'MED-2220', 'MED-3761', 'MED-3705', 'MED-5323', 'MED-4619', 'MED-4036', 'MED-5137', 'MED-4736', 'MED-1281', 'MED-4391', 'MED-2894', 'MED-3546', 'MED-3230', 'MED-2160', 'MED-4416', 'MED-1288', 'MED-4733', 'MED-1387', 'MED-3277', 'MED-5116', 'MED-2421', 'MED-4897', 'MED-3749', 'MED-3760', 'MED-4390', 'MED-3604', 'MED-2167', 'MED-2969', 'MED-4271', 'MED-4848', 'MED-1394', 'MED-2045', 'MED-1818', 'MED-4850', 'MED-1839', 'MED-2380', 'MED-1144', 'MED-3356', 'MED-3280', 'MED-3480', 'MED-5028', 'MED-4269', 'MED-1305', 'MED-4689', 'MED-3524', 'MED-3592', 'MED-3308', 'MED-4440', 'MED-3610', 'MED-3754', 'MED-1710', 'MED-3597', 'MED-4687', 'MED-5039', 'MED-1337', 'MED-2617', 'MED-3158', 'MED-4032', 'MED-5150', 'MED-3466', 'MED-5063', 'MED-3220', 'MED-1831', 'MED-4860', 'MED-4890', 'MED-5069', 'MED-2645', 'MED-5115', 'MED-1307', 'MED-3216', 'MED-4162', 'MED-1691', 'MED-4795', 'MED-4227', 'MED-3759', 'MED-3518', 'MED-4541', 'MED-2672', 'MED-3088', 'MED-3788', 'MED-2816', 'MED-3244', 'MED-2070', 'MED-3553', 'MED-3090', 'MED-4137', 'MED-3448', 'MED-3799', 'MED-4992', 'MED-1265', 'MED-5192', 'MED-2711', 'MED-1712', 'MED-3249', 'MED-1717', 'MED-2369', 'MED-2671', 'MED-4511', 'MED-4796', 'MED-1723', 'MED-2134', 'MED-1851', 'MED-4871', 'MED-3140', 'MED-4920', 'MED-4445', 'MED-4763', 'MED-4318', 'MED-2651', 'MED-1838', 'MED-3808', 'MED-1834', 'MED-4320', 'MED-3276', 'MED-4150', 'MED-3785', 'MED-1709', 'MED-2476', 'MED-3050', 'MED-3585', 'MED-3096', 'MED-3495', 'MED-1716', 'MED-3288', 'MED-2582', 'MED-2471', 'MED-3312', 'MED-1715', 'MED-2992', 'MED-4154', 'MED-3623', 'MED-2206', 'MED-3894', 'MED-2574', 'MED-2917', 'MED-2019', 'MED-4145', 'MED-2095', 'MED-4226', 'MED-4522', 'MED-3522', 'MED-5330', 'MED-1737', 'MED-3494', 'MED-2143', 'MED-2583', 'MED-4136', 'MED-4884', 'MED-1753', 'MED-4874', 'MED-1606', 'MED-2029', 'MED-3841', 'MED-1721', 'MED-2898', 'MED-3774', 'MED-1220', 'MED-1806', 'MED-2354', 'MED-5064', 'MED-1386', 'MED-4477', 'MED-4651', 'MED-4841', 'MED-4357', 'MED-1296', 'MED-4650', 'MED-5129', 'MED-2608', 'MED-3112', 'MED-5114', 'MED-4415', 'MED-4462', 'MED-3109', 'MED-1719', 'MED-2061', 'MED-5062', 'MED-4224', 'MED-4303', 'MED-2055', 'MED-2018', 'MED-5173', 'MED-3845', 'MED-2987', 'MED-3624', 'MED-3980', 'MED-1169', 'MED-4783', 'MED-4777', 'MED-1383', 'MED-5342', 'MED-4680', 'MED-1244', 'MED-4286']\n"
          ]
        }
      ]
    },
    {
      "cell_type": "code",
      "execution_count": null,
      "metadata": {
        "colab": {
          "base_uri": "https://localhost:8080/"
        },
        "id": "GBnrzSQ9LdZJ",
        "outputId": "aa95b765-2ac1-48d9-d375-fafb683d1efb"
      },
      "outputs": [
        {
          "output_type": "stream",
          "name": "stdout",
          "text": [
            "Similarité entre la requête 'PLAIN-55' et le document 'MED-4798': 0.8105282783508301\n"
          ]
        }
      ],
      "source": [
        "from sklearn.metrics.pairwise import cosine_similarity\n",
        "\n",
        "def calculate_similarity(query_embedding, doc_embedding):\n",
        "    # Calculer la similarité cosinus entre les embeddings de la requête et du document\n",
        "    return cosine_similarity([query_embedding], [doc_embedding])[0][0]\n",
        "\n",
        "# Exemple d'utilisation :\n",
        "doc_id = \"MED-4798\"\n",
        "req_id = \"PLAIN-55\"\n",
        "\n",
        "# Récupérer les embeddings du document et de la requête\n",
        "doc_embedding = corpusDocEmbeddings[doc_id]\n",
        "req_embedding = corpusReqEmbeddings[req_id]\n",
        "\n",
        "# Calculer la similarité entre la requête et le document\n",
        "similarity = calculate_similarity(req_embedding, doc_embedding)\n",
        "\n",
        "# Afficher la similarité\n",
        "print(f\"Similarité entre la requête '{req_id}' et le document '{doc_id}': {similarity}\")\n"
      ]
    },
    {
      "cell_type": "markdown",
      "source": [
        "## NDCG@5"
      ],
      "metadata": {
        "id": "ceyKM3zc-B0Q"
      }
    },
    {
      "cell_type": "code",
      "source": [
        "similarity_list = []\n",
        "\n",
        "# Parcourir toutes les combinaisons de requêtes et de documents\n",
        "for plain in PLAIN_list:\n",
        "    for med in MED_list:\n",
        "        # Récupérer les embeddings du document et de la requête\n",
        "        doc_id = med\n",
        "        req_id = plain\n",
        "        doc_embedding = corpusDocEmbeddings[doc_id]\n",
        "        req_embedding = corpusReqEmbeddings[req_id]\n",
        "\n",
        "        # Calculer la similarité entre la requête et le document\n",
        "        similarity = calculate_similarity(req_embedding, doc_embedding)\n",
        "\n",
        "        # Ajouter la similarité et l'identifiant du document à la liste\n",
        "        similarity_list.append([similarity, doc_id])\n",
        "\n",
        "# Afficher la liste complète des similarités\n",
        "print(similarity_list)\n"
      ],
      "metadata": {
        "id": "XzllVjitik8f",
        "colab": {
          "base_uri": "https://localhost:8080/"
        },
        "outputId": "43d1480d-fc3a-4fb0-864f-6dbcf5dde36a"
      },
      "execution_count": null,
      "outputs": [
        {
          "output_type": "stream",
          "name": "stderr",
          "text": [
            "IOPub data rate exceeded.\n",
            "The notebook server will temporarily stop sending output\n",
            "to the client in order to avoid crashing it.\n",
            "To change this limit, set the config variable\n",
            "`--NotebookApp.iopub_data_rate_limit`.\n",
            "\n",
            "Current values:\n",
            "NotebookApp.iopub_data_rate_limit=1000000.0 (bytes/sec)\n",
            "NotebookApp.rate_limit_window=3.0 (secs)\n",
            "\n"
          ]
        }
      ]
    },
    {
      "cell_type": "code",
      "source": [
        "# Triez la liste de manière décroissante\n",
        "sorted_list = sorted(similarity_list, key=lambda x: x[0], reverse=True)\n",
        "\n",
        "# Prenez les 5 meilleurs scores\n",
        "top_5_scores = sorted_list[:5]\n",
        "best_scores = []\n",
        "combinaison = []\n",
        "\n",
        "for s in top_5_scores:\n",
        "  best_scores.append(s[0])\n",
        "  combinaison.append(s[1])\n",
        "\n",
        "# Affichez les 5 meilleurs scores\n",
        "print(\"Les 5 meilleurs scores sont :\", top_5_scores)\n",
        "print(best_scores)\n",
        "print(combinaison)"
      ],
      "metadata": {
        "colab": {
          "base_uri": "https://localhost:8080/"
        },
        "id": "698PuVE5p4Un",
        "outputId": "5cc01d51-00a0-4038-b034-e7bb9829f295"
      },
      "execution_count": null,
      "outputs": [
        {
          "output_type": "stream",
          "name": "stdout",
          "text": [
            "Les 5 meilleurs scores sont : [[0.9040048, 'MED-4057'], [0.9039674, 'MED-2075'], [0.9025656, 'MED-4777'], [0.90246713, 'MED-1254'], [0.90001506, 'MED-3681']]\n",
            "[0.9040048, 0.9039674, 0.9025656, 0.90246713, 0.90001506]\n",
            "['MED-4057', 'MED-2075', 'MED-4777', 'MED-1254', 'MED-3681']\n"
          ]
        }
      ]
    },
    {
      "cell_type": "code",
      "source": [
        "# Liste des termes MED\n",
        "med_only = combinaison\n",
        "\n",
        "# Dictionnaire pour stocker les relevances\n",
        "relevances_med = {}\n",
        "\n",
        "# Chemin vers le fichier qrel\n",
        "filename_qrel = dir + \"dev.2-1-0.qrel\"\n",
        "\n",
        "# Lire le fichier qrel et extraire les relevances\n",
        "with open(filename_qrel) as file:\n",
        "    lines = file.readlines()\n",
        "    for line in lines:\n",
        "        tabLine = line.strip().split('\\t')\n",
        "        req = tabLine[0]\n",
        "        doc = tabLine[2]\n",
        "        score = int(tabLine[3])\n",
        "        # Vérifier si le document commence par \"MED\" et est dans la liste des termes MED\n",
        "        for element in combinaison:\n",
        "          if (doc == element):\n",
        "            # Stocker la relevance dans le dictionnaire\n",
        "            relevances_med[doc] = score\n",
        "\n",
        "# Afficher les relevances\n",
        "print(\"Relevances des termes MED:\", relevances_med)\n"
      ],
      "metadata": {
        "colab": {
          "base_uri": "https://localhost:8080/"
        },
        "id": "am_MsV1uxJ-X",
        "outputId": "0e099bb1-1171-41f4-c0fc-fee9efc5679c"
      },
      "execution_count": null,
      "outputs": [
        {
          "output_type": "stream",
          "name": "stdout",
          "text": [
            "Relevances des termes MED: {'MED-3681': 1, 'MED-4777': 1, 'MED-2075': 1, 'MED-1254': 1, 'MED-4057': 1}\n"
          ]
        }
      ]
    },
    {
      "cell_type": "code",
      "source": [
        "from math import log2\n",
        "\n",
        "def ndcg_at_k(predictions, relevance, k):\n",
        "    # Trier les prédictions et les scores de pertinence par ordre décroissant\n",
        "    sorted_preds = [p for _, p in sorted(zip(relevance, predictions), reverse=True)]\n",
        "    sorted_relevance = sorted(relevance, reverse=True)\n",
        "\n",
        "    # Calculer DCG@k (Discounted Cumulative Gain at k)\n",
        "    dcg_at_k = sum([(2**p - 1) / (log2(i + 2)) for i, p in enumerate(sorted_preds[:k])])\n",
        "\n",
        "    # Calculer IDCG@k (Ideal Discounted Cumulative Gain at k)\n",
        "    idcg_at_k = sum([(2**p - 1) / (log2(i + 2)) for i, p in enumerate(sorted_relevance[:k])])\n",
        "\n",
        "    # Calculer NDCG@k (Normalized Discounted Cumulative Gain at k)\n",
        "    ndcg_at_k = dcg_at_k / idcg_at_k if idcg_at_k > 0 else 0\n",
        "\n",
        "    return ndcg_at_k\n",
        "\n",
        "predictions = best_scores\n",
        "relevance = list(relevances_med.values())\n",
        "ndcg_5 = ndcg_at_k(predictions, relevance, k=5)\n",
        "print(\"NDCG@5:\", ndcg_5)\n"
      ],
      "metadata": {
        "colab": {
          "base_uri": "https://localhost:8080/"
        },
        "id": "0xLK1yDFqNm6",
        "outputId": "13b4f0a6-7948-44a4-d278-71440f269bb9"
      },
      "execution_count": null,
      "outputs": [
        {
          "output_type": "stream",
          "name": "stdout",
          "text": [
            "NDCG@5: 0.869957234097763\n"
          ]
        }
      ]
    }
  ],
  "metadata": {
    "accelerator": "GPU",
    "colab": {
      "provenance": [],
      "gpuType": "T4"
    },
    "kernelspec": {
      "display_name": "Python 3",
      "name": "python3"
    },
    "language_info": {
      "name": "python"
    }
  },
  "nbformat": 4,
  "nbformat_minor": 0
}